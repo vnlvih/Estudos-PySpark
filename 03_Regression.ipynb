{
  "nbformat": 4,
  "nbformat_minor": 0,
  "metadata": {
    "colab": {
      "name": "03_Regression.ipynb",
      "provenance": [],
      "collapsed_sections": [],
      "mount_file_id": "1MSKdY4tn0D9vRZxxuj6DmGSs6YzEcOWF",
      "authorship_tag": "ABX9TyPRNi+8Px3RYB1nTv2r0prv",
      "include_colab_link": true
    },
    "kernelspec": {
      "name": "python3",
      "display_name": "Python 3"
    },
    "language_info": {
      "name": "python"
    }
  },
  "cells": [
    {
      "cell_type": "markdown",
      "metadata": {
        "id": "view-in-github",
        "colab_type": "text"
      },
      "source": [
        "<a href=\"https://colab.research.google.com/github/vnlvih/Estudos-PySpark/blob/main/03_Regression.ipynb\" target=\"_parent\"><img src=\"https://colab.research.google.com/assets/colab-badge.svg\" alt=\"Open In Colab\"/></a>"
      ]
    },
    {
      "cell_type": "code",
      "execution_count": null,
      "metadata": {
        "id": "N3mXNueFVnGk",
        "colab": {
          "base_uri": "https://localhost:8080/"
        },
        "outputId": "ca549c60-32a6-4f77-a08c-346376d4ae9b"
      },
      "outputs": [
        {
          "output_type": "stream",
          "name": "stdout",
          "text": [
            "Collecting pyspark\n",
            "  Downloading pyspark-3.2.0.tar.gz (281.3 MB)\n",
            "\u001b[K     |████████████████████████████████| 281.3 MB 38 kB/s \n",
            "\u001b[?25hCollecting py4j==0.10.9.2\n",
            "  Downloading py4j-0.10.9.2-py2.py3-none-any.whl (198 kB)\n",
            "\u001b[K     |████████████████████████████████| 198 kB 32.3 MB/s \n",
            "\u001b[?25hBuilding wheels for collected packages: pyspark\n",
            "  Building wheel for pyspark (setup.py) ... \u001b[?25l\u001b[?25hdone\n",
            "  Created wheel for pyspark: filename=pyspark-3.2.0-py2.py3-none-any.whl size=281805912 sha256=39cd49b8b209b93eaad127b438f32724a7c4a7f61975763af339d5949b9de0e8\n",
            "  Stored in directory: /root/.cache/pip/wheels/0b/de/d2/9be5d59d7331c6c2a7c1b6d1a4f463ce107332b1ecd4e80718\n",
            "Successfully built pyspark\n",
            "Installing collected packages: py4j, pyspark\n",
            "Successfully installed py4j-0.10.9.2 pyspark-3.2.0\n"
          ]
        }
      ],
      "source": [
        "!pip install pyspark"
      ]
    },
    {
      "cell_type": "code",
      "source": [
        "from pyspark.sql import SparkSession\n",
        "spark = SparkSession.builder\\\n",
        "        .master(\"local\")\\\n",
        "        .appName(\"Colab\")\\\n",
        "        .config('spark.ui.port', '4050')\\\n",
        "        .getOrCreate()"
      ],
      "metadata": {
        "id": "Te9uA4ytW-g_"
      },
      "execution_count": null,
      "outputs": []
    },
    {
      "cell_type": "code",
      "source": [
        "from pyspark.sql.functions import *\n",
        "from pyspark.sql.types import *"
      ],
      "metadata": {
        "id": "PtwQWra6aL1U"
      },
      "execution_count": null,
      "outputs": []
    },
    {
      "cell_type": "markdown",
      "source": [
        "## **Data Preparation**"
      ],
      "metadata": {
        "id": "Nr02X9eWfqCe"
      }
    },
    {
      "cell_type": "code",
      "source": [
        "schema = StructType([\n",
        "                     StructField(\"mon\", IntegerType()),\n",
        "                     StructField(\"dom\", IntegerType()),\n",
        "                     StructField(\"dow\", IntegerType()),\n",
        "                     StructField(\"carrier\", StringType()),\n",
        "                     StructField(\"flight\", StringType()),\n",
        "                     StructField(\"org\", StringType()),\n",
        "                     StructField(\"mile\", DoubleType()),\n",
        "                     StructField(\"depart\", DoubleType()),\n",
        "                     StructField(\"duration\", DoubleType()),\n",
        "                     StructField(\"delay\", DoubleType()),\n",
        "])\n",
        "\n",
        "flights = spark.read.csv(\"/content/drive/MyDrive/Data Science & Afins/DATACAMP/03. Big Data with PySpark/05. Machine Learning with PySpark/00. DataSets/flights.csv\", header=True, schema=schema)\n",
        "flights.show(5)"
      ],
      "metadata": {
        "colab": {
          "base_uri": "https://localhost:8080/"
        },
        "id": "MuNsS_M7abn2",
        "outputId": "67d910a2-70b7-47f1-e354-925b1be31e76"
      },
      "execution_count": null,
      "outputs": [
        {
          "output_type": "stream",
          "name": "stdout",
          "text": [
            "+---+---+---+-------+------+---+------+------+--------+-----+\n",
            "|mon|dom|dow|carrier|flight|org|  mile|depart|duration|delay|\n",
            "+---+---+---+-------+------+---+------+------+--------+-----+\n",
            "| 11| 20|  6|     US|    19|JFK|2153.0|  9.48|   351.0| null|\n",
            "|  0| 22|  2|     UA|  1107|ORD| 316.0| 16.33|    82.0| 30.0|\n",
            "|  2| 20|  4|     UA|   226|SFO| 337.0|  6.17|    82.0| -8.0|\n",
            "|  9| 13|  1|     AA|   419|ORD|1236.0| 10.33|   195.0| -5.0|\n",
            "|  4|  2|  5|     AA|   325|ORD| 258.0|  8.92|    65.0| null|\n",
            "+---+---+---+-------+------+---+------+------+--------+-----+\n",
            "only showing top 5 rows\n",
            "\n"
          ]
        }
      ]
    },
    {
      "cell_type": "markdown",
      "source": [
        "## **Dropping columns**"
      ],
      "metadata": {
        "id": "w5ac_CLGfMVM"
      }
    },
    {
      "cell_type": "code",
      "source": [
        "#Either drop the columns you don't want...\n",
        "flights = flights.drop(\"flight\")\n",
        "flights.show(5)\n",
        "# ... or select  the columns you want to retain \n",
        "\"\"\"flights_2 = flights.select('mon',\n",
        " 'dom',\n",
        " 'dow',\n",
        " 'carrier',\n",
        " 'org',\n",
        " 'mile',\n",
        " 'depart',\n",
        " 'duration',\n",
        " 'delay')\n",
        "flights_2.show(5)\"\"\""
      ],
      "metadata": {
        "colab": {
          "base_uri": "https://localhost:8080/",
          "height": 226
        },
        "id": "Rx3lNcvOe2Iv",
        "outputId": "129f6a1b-e0ca-4ba7-b597-a3de62e56298"
      },
      "execution_count": null,
      "outputs": [
        {
          "output_type": "stream",
          "name": "stdout",
          "text": [
            "+---+---+---+-------+---+------+------+--------+-----+\n",
            "|mon|dom|dow|carrier|org|  mile|depart|duration|delay|\n",
            "+---+---+---+-------+---+------+------+--------+-----+\n",
            "| 11| 20|  6|     US|JFK|2153.0|  9.48|   351.0| null|\n",
            "|  0| 22|  2|     UA|ORD| 316.0| 16.33|    82.0| 30.0|\n",
            "|  2| 20|  4|     UA|SFO| 337.0|  6.17|    82.0| -8.0|\n",
            "|  9| 13|  1|     AA|ORD|1236.0| 10.33|   195.0| -5.0|\n",
            "|  4|  2|  5|     AA|ORD| 258.0|  8.92|    65.0| null|\n",
            "+---+---+---+-------+---+------+------+--------+-----+\n",
            "only showing top 5 rows\n",
            "\n"
          ]
        },
        {
          "output_type": "execute_result",
          "data": {
            "application/vnd.google.colaboratory.intrinsic+json": {
              "type": "string"
            },
            "text/plain": [
              "\"flights_2 = flights.select('mon',\\n 'dom',\\n 'dow',\\n 'carrier',\\n 'org',\\n 'mile',\\n 'depart',\\n 'duration',\\n 'delay')\\nflights_2.show(5)\""
            ]
          },
          "metadata": {},
          "execution_count": 91
        }
      ]
    },
    {
      "cell_type": "markdown",
      "source": [
        "## Filtering out missing data"
      ],
      "metadata": {
        "id": "pFMg_j6PgfXF"
      }
    },
    {
      "cell_type": "code",
      "source": [
        "#How many missing values?\n",
        "\n",
        "flights.filter(\"delay IS NULL\").count()"
      ],
      "metadata": {
        "colab": {
          "base_uri": "https://localhost:8080/"
        },
        "id": "jhq6RGaPgcg-",
        "outputId": "e7d7f80a-c851-4a44-c30e-561a631c87e8"
      },
      "execution_count": null,
      "outputs": [
        {
          "output_type": "execute_result",
          "data": {
            "text/plain": [
              "2978"
            ]
          },
          "metadata": {},
          "execution_count": 92
        }
      ]
    },
    {
      "cell_type": "code",
      "source": [
        "#Drop records with missing values in the delay column\n",
        "flights = flights.filter(\"delay IS NOT NULL\")\n",
        "\n",
        "#Drop records with missing values in any column\n",
        "\n",
        "flights = flights.dropna()"
      ],
      "metadata": {
        "id": "JHvpA6Lfgr3B"
      },
      "execution_count": null,
      "outputs": []
    },
    {
      "cell_type": "markdown",
      "source": [
        "## **Mutating columns** "
      ],
      "metadata": {
        "id": "pZQdmQwghOj7"
      }
    },
    {
      "cell_type": "markdown",
      "source": [
        "- Derive a new km column from the mile column, rounding to zero decimal places. One mile is 1.60934 km.\n",
        "Remove the mile column.\n",
        "- Create a label column with a value of 1 indicating the delay was 15 minutes or more and 0 otherwise."
      ],
      "metadata": {
        "id": "TZwzMEL89gyp"
      }
    },
    {
      "cell_type": "code",
      "source": [
        "# Import the required function\n",
        "from pyspark.sql.functions import round\n",
        "\n",
        "# Convert 'mile' to 'km' and drop 'mile' column\n",
        "flights = flights.withColumn('km', round(flights.mile * 1.60934, 0)) \\\n",
        "                    .drop('mile')\n",
        "\n",
        "# Create 'label' column indicating whether flight delayed (1) or not (0)\n",
        "#flights = flights.withColumn('label', (flights.delay >= 15).cast('integer'))\n",
        "\n",
        "# Check first five records\n",
        "#flights.show(5)"
      ],
      "metadata": {
        "id": "FVKBoIU-hHQx"
      },
      "execution_count": null,
      "outputs": []
    },
    {
      "cell_type": "markdown",
      "source": [
        "## Categorical columns\n",
        "\n",
        "In the flights data there are two columns, carrier and org, which hold categorical data. You need to transform those columns into indexed numerical values."
      ],
      "metadata": {
        "id": "go0AqBSgj0tt"
      }
    },
    {
      "cell_type": "code",
      "source": [
        "from pyspark.ml.feature import StringIndexer\n",
        "\n",
        "# Create an indexer\n",
        "#indexer = StringIndexer(inputCol=\"carrier\", outputCol='carrier_idx')\n",
        "\n",
        "# Indexer identifies categories in the data\n",
        "#indexer_model = indexer.fit(flights)\n",
        "\n",
        "# Indexer creates a new column with numeric index values\n",
        "#flights = indexer_model.transform(flights)\n",
        "\n",
        "# Repeat the process for the other categorical feature\n",
        "flights = StringIndexer(inputCol=\"org\", outputCol='org_idx').fit(flights).transform(flights)"
      ],
      "metadata": {
        "id": "9WDcmu9ckzYP"
      },
      "execution_count": null,
      "outputs": []
    },
    {
      "cell_type": "markdown",
      "source": [
        "## One-hot encoding\n",
        "\n",
        "\n",
        "### Encoding flight origin\n",
        "The org column in the flights data is a categorical variable giving the airport from which a flight departs.\n",
        "\n",
        "- ORD — O'Hare International Airport (Chicago)\n",
        "- SFO — San Francisco International Airport\n",
        "- JFK — John F Kennedy International Airport (New York)\n",
        "- LGA — La Guardia Airport (New York)\n",
        "- SMF — Sacramento\n",
        "- SJC — San Jose\n",
        "- TUS — Tucson International Airport\n",
        "- OGG — Kahului (Hawaii)\n",
        "Obviously this is only a small subset of airports. Nevertheless, since this is a categorical variable, it needs to be one-hot encoded before it can be used in a regression model.\n",
        "\n",
        "The data are in a variable called flights. You have already used a string indexer to create a column of indexed values corresponding to the strings in org.\n",
        "\n",
        "Note:: You might find it useful to revise the slides from the lessons in the Slides panel next to the IPython Shell.\n"
      ],
      "metadata": {
        "id": "VBpAulEJZa2T"
      }
    },
    {
      "cell_type": "code",
      "source": [
        "# Import the one hot encoder class\n",
        "from pyspark.ml.feature import OneHotEncoder\n",
        "\n",
        "# Create an instance of the one hot encoder\n",
        "onehot = OneHotEncoder(inputCols=[\"org_idx\"], outputCols=[\"org_dummy\"])\n",
        "\n",
        "# Apply the one hot encoder to the flights data\n",
        "onehot = onehot.fit(flights)\n",
        "flights = onehot.transform(flights)\n",
        "\n",
        "# Check the results\n",
        "#flights.select('org', 'org_idx', 'org_dummy').distinct().sort('org_idx').show()\n",
        "flights.show()"
      ],
      "metadata": {
        "colab": {
          "base_uri": "https://localhost:8080/"
        },
        "id": "Z6czIde9YiYW",
        "outputId": "98b9bde0-46e3-4c54-c5b8-d97e44de41ee"
      },
      "execution_count": null,
      "outputs": [
        {
          "output_type": "stream",
          "name": "stdout",
          "text": [
            "+---+---+---+-------+---+------+--------+-----+------+-------+-------------+\n",
            "|mon|dom|dow|carrier|org|depart|duration|delay|    km|org_idx|    org_dummy|\n",
            "+---+---+---+-------+---+------+--------+-----+------+-------+-------------+\n",
            "|  0| 22|  2|     UA|ORD| 16.33|    82.0| 30.0| 509.0|    0.0|(7,[0],[1.0])|\n",
            "|  2| 20|  4|     UA|SFO|  6.17|    82.0| -8.0| 542.0|    1.0|(7,[1],[1.0])|\n",
            "|  9| 13|  1|     AA|ORD| 10.33|   195.0| -5.0|1989.0|    0.0|(7,[0],[1.0])|\n",
            "|  5|  2|  1|     UA|SFO|  7.98|   102.0|  2.0| 885.0|    1.0|(7,[1],[1.0])|\n",
            "|  7|  2|  6|     AA|ORD| 10.83|   135.0| 54.0|1180.0|    0.0|(7,[0],[1.0])|\n",
            "|  1| 16|  6|     UA|ORD|   8.0|   232.0| -7.0|2317.0|    0.0|(7,[0],[1.0])|\n",
            "|  1| 22|  5|     UA|SJC|  7.98|   250.0|-13.0|2943.0|    5.0|(7,[5],[1.0])|\n",
            "| 11|  8|  1|     OO|SFO|  7.77|    60.0| 88.0| 254.0|    1.0|(7,[1],[1.0])|\n",
            "|  4| 26|  1|     AA|SFO| 13.25|   210.0|-10.0|2356.0|    1.0|(7,[1],[1.0])|\n",
            "|  4| 25|  0|     AA|ORD| 13.75|   160.0| 31.0|1574.0|    0.0|(7,[0],[1.0])|\n",
            "|  8| 30|  2|     UA|ORD| 13.28|   151.0| 16.0|1157.0|    0.0|(7,[0],[1.0])|\n",
            "|  3| 16|  3|     UA|ORD|   9.0|   264.0|  3.0|2808.0|    0.0|(7,[0],[1.0])|\n",
            "|  0|  3|  4|     AA|LGA| 17.08|   190.0| 32.0|1765.0|    3.0|(7,[3],[1.0])|\n",
            "|  5|  9|  1|     UA|SFO|  12.7|   158.0| 20.0|1556.0|    1.0|(7,[1],[1.0])|\n",
            "|  3| 10|  4|     B6|ORD| 17.58|   265.0|155.0|2792.0|    0.0|(7,[0],[1.0])|\n",
            "| 11| 15|  1|     AA|ORD|  6.75|   160.0| 23.0|1291.0|    0.0|(7,[0],[1.0])|\n",
            "|  8| 18|  4|     UA|SJC|  6.33|   160.0| 17.0|1526.0|    5.0|(7,[5],[1.0])|\n",
            "|  2| 14|  5|     B6|JFK|  6.17|   166.0|  0.0|1519.0|    2.0|(7,[2],[1.0])|\n",
            "|  7| 21|  4|     OO|ORD|  19.0|   110.0| 21.0| 977.0|    0.0|(7,[0],[1.0])|\n",
            "| 11|  6|  6|     OO|SFO|  8.75|    82.0| 40.0| 509.0|    1.0|(7,[1],[1.0])|\n",
            "+---+---+---+-------+---+------+--------+-----+------+-------+-------------+\n",
            "only showing top 20 rows\n",
            "\n"
          ]
        }
      ]
    },
    {
      "cell_type": "markdown",
      "source": [
        "## Assembling columns\n",
        "The final stage of data preparation is to consolidate all of the predictor columns into a single column.\n",
        "\n",
        "An updated version of the flights data, which takes into account all of the changes from the previous few exercises, has the following predictor columns:\n",
        "\n",
        "- mon, dom and dow\n",
        "- carrier_idx (indexed value from carrier)\n",
        "- org_idx (indexed value from org)\n",
        "- km\n",
        "- depart\n",
        "- duration"
      ],
      "metadata": {
        "id": "SFNNejxxIesg"
      }
    },
    {
      "cell_type": "code",
      "source": [
        "# Import the necessary class\n",
        "from pyspark.ml.feature import VectorAssembler\n",
        "\n",
        "# Create an assembler object\n",
        "assembler = VectorAssembler(inputCols=[\n",
        "    \"km\",\"org_dummy\"\n",
        "], outputCol='features')\n",
        "\n",
        "# Consolidate predictor columns\n",
        "flights = assembler.transform(flights)\n",
        "\n",
        "# Check the resulting column\n",
        "#flights.select('features', 'delay').show(5, truncate=False)\n",
        "flights.show(5)"
      ],
      "metadata": {
        "colab": {
          "base_uri": "https://localhost:8080/"
        },
        "id": "roLQJuW_HnpE",
        "outputId": "bba2746a-e3ed-40d6-c368-9570c6532f8f"
      },
      "execution_count": null,
      "outputs": [
        {
          "output_type": "stream",
          "name": "stdout",
          "text": [
            "+---+---+---+-------+---+------+--------+-----+------+-------+-------------+--------------------+\n",
            "|mon|dom|dow|carrier|org|depart|duration|delay|    km|org_idx|    org_dummy|            features|\n",
            "+---+---+---+-------+---+------+--------+-----+------+-------+-------------+--------------------+\n",
            "|  0| 22|  2|     UA|ORD| 16.33|    82.0| 30.0| 509.0|    0.0|(7,[0],[1.0])|(8,[0,1],[509.0,1...|\n",
            "|  2| 20|  4|     UA|SFO|  6.17|    82.0| -8.0| 542.0|    1.0|(7,[1],[1.0])|(8,[0,2],[542.0,1...|\n",
            "|  9| 13|  1|     AA|ORD| 10.33|   195.0| -5.0|1989.0|    0.0|(7,[0],[1.0])|(8,[0,1],[1989.0,...|\n",
            "|  5|  2|  1|     UA|SFO|  7.98|   102.0|  2.0| 885.0|    1.0|(7,[1],[1.0])|(8,[0,2],[885.0,1...|\n",
            "|  7|  2|  6|     AA|ORD| 10.83|   135.0| 54.0|1180.0|    0.0|(7,[0],[1.0])|(8,[0,1],[1180.0,...|\n",
            "+---+---+---+-------+---+------+--------+-----+------+-------+-------------+--------------------+\n",
            "only showing top 5 rows\n",
            "\n"
          ]
        }
      ]
    },
    {
      "cell_type": "markdown",
      "source": [
        "## Train/test split\n",
        "To objectively assess a Machine Learning model you need to be able to test it on an independent set of data. You can't use the same data that you used to train the model: of course the model will perform (relatively) well on those data!\n",
        "\n",
        "You will split the data into two components:\n",
        "\n",
        "- training data (used to train the model) and\n",
        "- testing data (used to test the model).\n",
        "\n",
        "\n",
        "Randomly split the flights data into two sets with 80:20 proportions. For repeatability set a random number seed of 17 for the split.\n",
        "Check that the training data has roughly 80% of the records from the original data."
      ],
      "metadata": {
        "id": "l2Wc4vMicQs2"
      }
    },
    {
      "cell_type": "code",
      "source": [
        "# Split into training and testing sets in a 80:20 ratio\n",
        "flights_train, flights_test = flights.randomSplit([.8,.2], seed=17)\n",
        "\n",
        "# Check that training set has around 80% of records\n",
        "training_ratio = flights_train.count() /flights_test.count()\n",
        "print(training_ratio)"
      ],
      "metadata": {
        "colab": {
          "base_uri": "https://localhost:8080/"
        },
        "id": "rkIdag3BKWvR",
        "outputId": "59a8375a-2b52-456f-91cd-7f2043ba0140"
      },
      "execution_count": null,
      "outputs": [
        {
          "output_type": "stream",
          "name": "stdout",
          "text": [
            "3.9253168534618204\n"
          ]
        }
      ]
    },
    {
      "cell_type": "markdown",
      "source": [
        "## Flight duration model: Just distance\n",
        "In this exercise you'll build a regression model to predict flight duration (the duration column).\n",
        "\n",
        "For the moment you'll keep the model simple, including only the distance of the flight (the km column) as a predictor.\n",
        "\n",
        "- Create a linear regression object. Specify the name of the label column. Fit it to the training data.\n",
        "- Make predictions on the testing data.\n",
        "- Create a regression evaluator object and use it to evaluate RMSE on the testing data."
      ],
      "metadata": {
        "id": "9L_vlXzfhSlP"
      }
    },
    {
      "cell_type": "code",
      "source": [
        "flights_train.show()"
      ],
      "metadata": {
        "colab": {
          "base_uri": "https://localhost:8080/"
        },
        "id": "D-WLxpcJpZj7",
        "outputId": "4a238524-ec1b-45c0-ca50-d69fbc7fcfff"
      },
      "execution_count": null,
      "outputs": [
        {
          "output_type": "stream",
          "name": "stdout",
          "text": [
            "+---+---+---+-------+---+------+--------+-----+------+-------+-------------+--------------------+\n",
            "|mon|dom|dow|carrier|org|depart|duration|delay|    km|org_idx|    org_dummy|            features|\n",
            "+---+---+---+-------+---+------+--------+-----+------+-------+-------------+--------------------+\n",
            "|  0|  1|  2|     AA|JFK|   7.0|   385.0|-16.0|4162.0|    2.0|(7,[2],[1.0])|(8,[0,3],[4162.0,...|\n",
            "|  0|  1|  2|     AA|JFK|  12.0|   370.0| 11.0|3983.0|    2.0|(7,[2],[1.0])|(8,[0,3],[3983.0,...|\n",
            "|  0|  1|  2|     AA|JFK|  17.0|   379.0|-10.0|3983.0|    2.0|(7,[2],[1.0])|(8,[0,3],[3983.0,...|\n",
            "|  0|  1|  2|     AA|LGA|   6.5|   240.0| 40.0|2235.0|    3.0|(7,[3],[1.0])|(8,[0,4],[2235.0,...|\n",
            "|  0|  1|  2|     AA|LGA|  8.25|   250.0| 27.0|2235.0|    3.0|(7,[3],[1.0])|(8,[0,4],[2235.0,...|\n",
            "|  0|  1|  2|     AA|LGA| 14.58|   165.0| -4.0|1180.0|    3.0|(7,[3],[1.0])|(8,[0,4],[1180.0,...|\n",
            "|  0|  1|  2|     AA|LGA| 20.42|   185.0| 31.0|1765.0|    3.0|(7,[3],[1.0])|(8,[0,4],[1765.0,...|\n",
            "|  0|  1|  2|     AA|OGG| 15.33|   310.0|173.0|4001.0|    7.0|    (7,[],[])|    (8,[0],[4001.0])|\n",
            "|  0|  1|  2|     AA|ORD|  6.75|   150.0|102.0|1291.0|    0.0|(7,[0],[1.0])|(8,[0,1],[1291.0,...|\n",
            "|  0|  1|  2|     AA|ORD|  8.75|   120.0|  8.0|1180.0|    0.0|(7,[0],[1.0])|(8,[0,1],[1180.0,...|\n",
            "|  0|  1|  2|     AA|ORD|  9.08|   560.0| 39.0|6828.0|    0.0|(7,[0],[1.0])|(8,[0,1],[6828.0,...|\n",
            "|  0|  1|  2|     AA|ORD| 10.17|   251.0| 67.0|2659.0|    0.0|(7,[0],[1.0])|(8,[0,1],[2659.0,...|\n",
            "|  0|  1|  2|     AA|ORD| 11.08|   105.0| 18.0| 985.0|    0.0|(7,[0],[1.0])|(8,[0,1],[985.0,1...|\n",
            "|  0|  1|  2|     AA|ORD| 12.67|   160.0| 68.0|1429.0|    0.0|(7,[0],[1.0])|(8,[0,1],[1429.0,...|\n",
            "|  0|  1|  2|     AA|ORD| 12.83|   170.0| 34.0|1624.0|    0.0|(7,[0],[1.0])|(8,[0,1],[1624.0,...|\n",
            "|  0|  1|  2|     AA|ORD| 13.75|   155.0| 41.0|1291.0|    0.0|(7,[0],[1.0])|(8,[0,1],[1291.0,...|\n",
            "|  0|  1|  2|     AA|ORD| 14.08|   270.0| 20.0|3335.0|    0.0|(7,[0],[1.0])|(8,[0,1],[3335.0,...|\n",
            "|  0|  1|  2|     AA|ORD| 16.75|   260.0|137.0|2778.0|    0.0|(7,[0],[1.0])|(8,[0,1],[2778.0,...|\n",
            "|  0|  1|  2|     AA|ORD| 16.92|    90.0|101.0| 649.0|    0.0|(7,[0],[1.0])|(8,[0,1],[649.0,1...|\n",
            "|  0|  1|  2|     AA|ORD| 17.25|   135.0| 49.0|1395.0|    0.0|(7,[0],[1.0])|(8,[0,1],[1395.0,...|\n",
            "+---+---+---+-------+---+------+--------+-----+------+-------+-------------+--------------------+\n",
            "only showing top 20 rows\n",
            "\n"
          ]
        }
      ]
    },
    {
      "cell_type": "code",
      "source": [
        "from pyspark.ml.regression import LinearRegression\n",
        "from pyspark.ml.evaluation import RegressionEvaluator\n",
        "\n",
        "# Create a regression object and train on training data\n",
        "regression = LinearRegression(labelCol = \"duration\").fit(flights_train)\n",
        "\n",
        "# Create predictions for the testing data and take a look at the predictions\n",
        "predictions = regression.transform(flights_test)\n",
        "predictions.select('duration', 'prediction').show(5, False)\n",
        "\n",
        "# Calculate the RMSE\n",
        "RegressionEvaluator(labelCol='duration').evaluate(predictions)"
      ],
      "metadata": {
        "id": "yp4HTOWY56p5",
        "colab": {
          "base_uri": "https://localhost:8080/"
        },
        "outputId": "d1c1ad06-77a7-4dcc-fb3d-4e21a5629ac8"
      },
      "execution_count": null,
      "outputs": [
        {
          "output_type": "stream",
          "name": "stdout",
          "text": [
            "+--------+-----------------+\n",
            "|duration|prediction       |\n",
            "+--------+-----------------+\n",
            "|230.0   |259.1362558120262|\n",
            "|170.0   |150.1497766375601|\n",
            "|120.0   |132.0591167025192|\n",
            "|135.0   |132.0591167025192|\n",
            "|70.0    |75.2332350687274 |\n",
            "+--------+-----------------+\n",
            "only showing top 5 rows\n",
            "\n"
          ]
        },
        {
          "output_type": "execute_result",
          "data": {
            "text/plain": [
              "10.84177434569271"
            ]
          },
          "metadata": {},
          "execution_count": 100
        }
      ]
    },
    {
      "cell_type": "markdown",
      "source": [
        "## Interpreting the coefficients\n",
        "The linear regression model for flight duration as a function of distance takes the form\n",
        "\n",
        "\n",
        "duration = a + b.distance\n",
        "\n",
        "where\n",
        "\n",
        " — a: intercept (component of duration which does not depend on distance) and\n",
        "\n",
        "\n",
        " — b: coefficient (rate at which duration increases as a function of distance; also called the slope).\n",
        "\n",
        "\n",
        "By looking at the coefficients of your model you will be able to infer\n",
        "\n",
        "- how much of the average flight duration is actually spent on the ground and\n",
        "what the average speed is during a flight.\n",
        "The linear regression model is available as regression.\n",
        "\n",
        "- What's the intercept?\n",
        "- What are the coefficients? This is a vector.\n",
        "- Extract the element from the vector which corresponds to the slope for distance.\n",
        "- Find the average speed in km per hour.\n",
        "\n"
      ],
      "metadata": {
        "id": "t4utn4k6iR-Q"
      }
    },
    {
      "cell_type": "code",
      "source": [
        "# Intercept (average minutes on ground)\n",
        "#inter = regression.intercept\n",
        "#print(inter)\n",
        "\n",
        "# Coefficients\n",
        "#coefs = regression.coefficients\n",
        "#print(coefs)\n",
        "\n",
        "# Average minutes per km\n",
        "#minutes_per_km = regression.coefficients[0]\n",
        "#print(minutes_per_km)\n",
        "\n",
        "# Average speed in km per hour\n",
        "#avg_speed = 60 / regression.coefficients[0]\n",
        "#print(avg_speed)"
      ],
      "metadata": {
        "id": "-m7GseHmhO7Z"
      },
      "execution_count": null,
      "outputs": []
    },
    {
      "cell_type": "markdown",
      "source": [
        "## Interpreting coefficients 2 \n",
        "Remember that origin airport, org, has eight possible values (ORD, SFO, JFK, LGA, SMF, SJC, TUS and OGG) which have been one-hot encoded to seven dummy variables in org_dummy.\n",
        "\n",
        "The values for km and org_dummy have been assembled into features, which has eight columns with sparse representation. Column indices in features are as follows:\n",
        "\n",
        "- 0 — km\n",
        "- 1 — ORD\n",
        "- 2 — SFO\n",
        "- 3 — JFK\n",
        "- 4 — LGA\n",
        "- 5 — SMF\n",
        "- 6 — SJC and\n",
        "- 7 — TUS.\n",
        "Note that OGG does not appear in this list because it is the reference level for the origin airport category.\n",
        "\n",
        "In this exercise you'll be using the intercept and coefficients attributes to interpret the model.\n",
        "\n",
        "The coefficients attribute is a list, where the first element indicates how flight duration changes with flight distance.\n",
        "\n",
        "Instructions\n",
        "\n",
        "- Find the average speed in km per hour. This will be different to the value that you got earlier because your model is now more sophisticated.\n",
        "- What's the average time on the ground at OGG?\n",
        "- What's the average time on the ground at JFK?\n",
        "- What's the average time on the ground at LGA?"
      ],
      "metadata": {
        "id": "XhmIIoEUoFuN"
      }
    },
    {
      "cell_type": "code",
      "source": [
        "# Average speed in km per hour\n",
        "avg_speed_hour = 60 / regression.coefficients[0]\n",
        "print(avg_speed_hour)\n",
        "\n",
        "# Average minutes on ground at OGG\n",
        "inter = regression.intercept\n",
        "print(inter)\n",
        "\n",
        "# Average minutes on ground at JFK\n",
        "avg_ground_jfk = inter + regression.coefficients[3]\n",
        "print(avg_ground_jfk)\n",
        "\n",
        "# Average minutes on ground at LGA\n",
        "avg_ground_lga = inter + regression.coefficients[4]\n",
        "print(avg_ground_lga)"
      ],
      "metadata": {
        "colab": {
          "base_uri": "https://localhost:8080/"
        },
        "id": "WtzXRcABkbUQ",
        "outputId": "60549070-ce95-4aeb-dc8e-4333a1bf6094"
      },
      "execution_count": null,
      "outputs": [
        {
          "output_type": "stream",
          "name": "stdout",
          "text": [
            "807.7305389786569\n",
            "15.484675567183574\n",
            "68.23100640177145\n",
            "62.49678274491395\n"
          ]
        }
      ]
    },
    {
      "cell_type": "markdown",
      "source": [
        "## Bucketing departure time\n",
        "Time of day data are a challenge with regression models. They are also a great candidate for bucketing.\n",
        "\n",
        "In this lesson you will convert the flight departure times from numeric values between 0 (corresponding to 00:00) and 24 (corresponding to 24:00) to binned values. You'll then take those binned values and one-hot encode them.\n",
        "\n",
        "\n",
        "- Create a bucketizer object with bin boundaries which correspond to 0:00, 03:00, 06:00, …, 24:00. Specify input column as depart and output column as depart_bucket.\n",
        "- Bucket the departure times. Show the first five values for depart and depart_bucket.\n",
        "- Create a one-hot encoder object. Specify output column as depart_dummy.\n",
        "- Train the encoder on the data and then use it to convert the bucketed departure times to dummy variables. Show the first five values for depart, depart_bucket and depart_dummy."
      ],
      "metadata": {
        "id": "bDQpwkEHwYYn"
      }
    },
    {
      "cell_type": "code",
      "source": [
        "from pyspark.ml.feature import Bucketizer\n",
        "\n",
        "# Create buckets at 3 hour intervals through the day\n",
        "buckets = Bucketizer(splits=[\n",
        "    3 * x for x in range(9)\n",
        "], inputCol='depart', outputCol='depart_bucket')\n",
        "\n",
        "# Bucket the departure times\n",
        "bucketed = buckets.transform(flights)\n",
        "bucketed.select('depart', 'depart_bucket').show(5)\n",
        "\n",
        "# Create a one-hot encoder\n",
        "onehot = OneHotEncoder(inputCols=['depart_bucket'], outputCols=['depart_dummy'])\n",
        "\n",
        "# One-hot encode the bucketed departure times\n",
        "flights_onehot = onehot.fit(bucketed).transform(bucketed)\n",
        "flights_onehot.select('depart', 'depart_bucket', 'depart_dummy').show(5)"
      ],
      "metadata": {
        "colab": {
          "base_uri": "https://localhost:8080/"
        },
        "id": "xt3D3fSPoqn1",
        "outputId": "c3b1a048-ef4d-4fbe-fea9-1aa7811baa6f"
      },
      "execution_count": null,
      "outputs": [
        {
          "output_type": "stream",
          "name": "stdout",
          "text": [
            "+------+-------------+\n",
            "|depart|depart_bucket|\n",
            "+------+-------------+\n",
            "| 16.33|          5.0|\n",
            "|  6.17|          2.0|\n",
            "| 10.33|          3.0|\n",
            "|  7.98|          2.0|\n",
            "| 10.83|          3.0|\n",
            "+------+-------------+\n",
            "only showing top 5 rows\n",
            "\n",
            "+------+-------------+-------------+\n",
            "|depart|depart_bucket| depart_dummy|\n",
            "+------+-------------+-------------+\n",
            "| 16.33|          5.0|(7,[5],[1.0])|\n",
            "|  6.17|          2.0|(7,[2],[1.0])|\n",
            "| 10.33|          3.0|(7,[3],[1.0])|\n",
            "|  7.98|          2.0|(7,[2],[1.0])|\n",
            "| 10.83|          3.0|(7,[3],[1.0])|\n",
            "+------+-------------+-------------+\n",
            "only showing top 5 rows\n",
            "\n"
          ]
        }
      ]
    },
    {
      "cell_type": "markdown",
      "source": [
        "### Flight duration model - Adding departure time\n",
        "In the previous exercise the departure time was bucketed and converted to dummy variables. Now you're going to include those dummy variables in a regression model for flight duration.\n",
        "\n",
        "The data are in `flights`. The `km`, `org_dummy` and `depart_dummy` columns have been assembled into `features`, where `km` is index 0, `org_dummy` runs from index 1 to 7 and `depart_dummy` from index 8 to 14.\n"
      ],
      "metadata": {
        "id": "Cq9Q_mFAwnHM"
      }
    },
    {
      "cell_type": "code",
      "source": [
        "assembler = VectorAssembler(inputCols=['km', 'org_dummy', 'depart_dummy'], outputCol='features')\n",
        "\n",
        "flights = assembler.transform(flights_onehot.drop('features'))\n",
        "\n",
        "flights.show(5)"
      ],
      "metadata": {
        "colab": {
          "base_uri": "https://localhost:8080/"
        },
        "id": "Ef_lSLJNwgK3",
        "outputId": "57569f76-73d7-4412-e076-543dcd108630"
      },
      "execution_count": null,
      "outputs": [
        {
          "output_type": "stream",
          "name": "stdout",
          "text": [
            "+---+---+---+-------+---+------+--------+-----+------+-------+-------------+-------------+-------------+--------------------+\n",
            "|mon|dom|dow|carrier|org|depart|duration|delay|    km|org_idx|    org_dummy|depart_bucket| depart_dummy|            features|\n",
            "+---+---+---+-------+---+------+--------+-----+------+-------+-------------+-------------+-------------+--------------------+\n",
            "|  0| 22|  2|     UA|ORD| 16.33|    82.0| 30.0| 509.0|    0.0|(7,[0],[1.0])|          5.0|(7,[5],[1.0])|(15,[0,1,13],[509...|\n",
            "|  2| 20|  4|     UA|SFO|  6.17|    82.0| -8.0| 542.0|    1.0|(7,[1],[1.0])|          2.0|(7,[2],[1.0])|(15,[0,2,10],[542...|\n",
            "|  9| 13|  1|     AA|ORD| 10.33|   195.0| -5.0|1989.0|    0.0|(7,[0],[1.0])|          3.0|(7,[3],[1.0])|(15,[0,1,11],[198...|\n",
            "|  5|  2|  1|     UA|SFO|  7.98|   102.0|  2.0| 885.0|    1.0|(7,[1],[1.0])|          2.0|(7,[2],[1.0])|(15,[0,2,10],[885...|\n",
            "|  7|  2|  6|     AA|ORD| 10.83|   135.0| 54.0|1180.0|    0.0|(7,[0],[1.0])|          3.0|(7,[3],[1.0])|(15,[0,1,11],[118...|\n",
            "+---+---+---+-------+---+------+--------+-----+------+-------+-------------+-------------+-------------+--------------------+\n",
            "only showing top 5 rows\n",
            "\n"
          ]
        }
      ]
    },
    {
      "cell_type": "code",
      "source": [
        "flights_train, flights_test = flights.randomSplit([0.8, 0.2])\n",
        "\n",
        "# Train with training data\n",
        "regression = LinearRegression(labelCol='duration').fit(flights_train)\n",
        "predictions = regression.transform(flights_test)\n",
        "\n",
        "RegressionEvaluator(labelCol='duration', metricName='rmse').evaluate(predictions)\n",
        "\n",
        "# Average minutes on ground at OGG for flights departing between 21:00 and 24:00\n",
        "avg_eve_ogg = regression.intercept\n",
        "print(avg_eve_ogg)\n",
        "\n",
        "# Average minutes on ground at OGG for flights departing between 00:00 and 03:00\n",
        "avg_night_ogg = regression.intercept + regression.coefficients[8]\n",
        "print(avg_night_ogg)\n",
        "\n",
        "# Average minutes on ground at JFK for flights departing between 00:00 and 03:00\n",
        "avg_night_jfk = regression.intercept + regression.coefficients[3] + regression.coefficients[8]\n",
        "print(avg_night_jfk)"
      ],
      "metadata": {
        "colab": {
          "base_uri": "https://localhost:8080/"
        },
        "id": "M3tC8U9QwpTd",
        "outputId": "145802dd-a1b9-4a78-a571-fdf17f34566d"
      },
      "execution_count": null,
      "outputs": [
        {
          "output_type": "stream",
          "name": "stdout",
          "text": [
            "9.945421780469697\n",
            "-3.488281235413975\n",
            "48.55293126557178\n"
          ]
        }
      ]
    },
    {
      "cell_type": "markdown",
      "source": [
        "## Regularization\n",
        "- Feature Selection\n",
        "\n",
        "- Loss function\n",
        "    - Linear regression aims to minimize the MSE\n",
        "$$ MSE = \\frac{1}{N} \\sum_{i=1}^{N}(y_i - \\hat{y_i})^2 $$\n",
        "- Loss function with regularization\n",
        "    - Add a regularization term which depends on coefficients\n",
        "$$ MSE = \\frac{1}{N} \\sum_{i=1}^{N}(y_i - \\hat{y_i})^2 + \\lambda f(\\beta) $$\n",
        "    - Regularizer\n",
        "        - Lasso - absolute value of the coefficients\n",
        "        - Ridge - square of the coefficients\n",
        "    - Both will shrink the coefficients of unimportant predictors\n",
        "    - Strength of regularization determined by parameter $\\lambda$:\n",
        "        - $\\lambda = 0$ - no regularization (standard regression)\n",
        "        - $\\lambda = \\infty$ - complete regularization (all coefficients zero)\n",
        "\n",
        "        "
      ],
      "metadata": {
        "id": "f_32CCxF5YiS"
      }
    },
    {
      "cell_type": "markdown",
      "source": [
        "### Flight duration model - More features!\n",
        "Let's add more features to our model. This will not necessarily result in a better model. Adding some features might improve the model. Adding other features might make it worse.\n",
        "\n",
        "More features will always make the model more complicated and difficult to interpret.\n",
        "\n",
        "These are the features you'll include in the next model:\n",
        "\n",
        "- `km`\n",
        "- `org` (origin airport, one-hot encoded, 8 levels)\n",
        "- `depart` (departure time, binned in 3 hour intervals, one-hot encoded, 8 levels)\n",
        "- `dow` (departure day of week, one-hot encoded, 7 levels) and\n",
        "- `mon` (departure month, one-hot encoded, 12 levels).\n",
        "\n",
        "These have been assembled into the `features` column, which is a sparse representation of 32 columns (remember one-hot encoding produces a number of columns which is one fewer than the number of levels)."
      ],
      "metadata": {
        "id": "A4YHkY8Z5eMI"
      }
    },
    {
      "cell_type": "code",
      "source": [
        "onehot = OneHotEncoder(inputCols=['dow'], outputCols=['dow_dummy'])\n",
        "flights = onehot.fit(flights).transform(flights)\n",
        "\n",
        "onehot = OneHotEncoder(inputCols=['mon'], outputCols=['mon_dummy'])\n",
        "flights = onehot.fit(flights).transform(flights)\n",
        "\n",
        "flights.show(5)"
      ],
      "metadata": {
        "colab": {
          "base_uri": "https://localhost:8080/"
        },
        "id": "VLvgXaoKwyoo",
        "outputId": "c8386dd8-fe69-4593-bf4a-c1cebe4a9000"
      },
      "execution_count": null,
      "outputs": [
        {
          "output_type": "stream",
          "name": "stdout",
          "text": [
            "+---+---+---+-------+---+------+--------+-----+------+-------+-------------+-------------+-------------+--------------------+-------------+--------------+\n",
            "|mon|dom|dow|carrier|org|depart|duration|delay|    km|org_idx|    org_dummy|depart_bucket| depart_dummy|            features|    dow_dummy|     mon_dummy|\n",
            "+---+---+---+-------+---+------+--------+-----+------+-------+-------------+-------------+-------------+--------------------+-------------+--------------+\n",
            "|  0| 22|  2|     UA|ORD| 16.33|    82.0| 30.0| 509.0|    0.0|(7,[0],[1.0])|          5.0|(7,[5],[1.0])|(15,[0,1,13],[509...|(6,[2],[1.0])|(11,[0],[1.0])|\n",
            "|  2| 20|  4|     UA|SFO|  6.17|    82.0| -8.0| 542.0|    1.0|(7,[1],[1.0])|          2.0|(7,[2],[1.0])|(15,[0,2,10],[542...|(6,[4],[1.0])|(11,[2],[1.0])|\n",
            "|  9| 13|  1|     AA|ORD| 10.33|   195.0| -5.0|1989.0|    0.0|(7,[0],[1.0])|          3.0|(7,[3],[1.0])|(15,[0,1,11],[198...|(6,[1],[1.0])|(11,[9],[1.0])|\n",
            "|  5|  2|  1|     UA|SFO|  7.98|   102.0|  2.0| 885.0|    1.0|(7,[1],[1.0])|          2.0|(7,[2],[1.0])|(15,[0,2,10],[885...|(6,[1],[1.0])|(11,[5],[1.0])|\n",
            "|  7|  2|  6|     AA|ORD| 10.83|   135.0| 54.0|1180.0|    0.0|(7,[0],[1.0])|          3.0|(7,[3],[1.0])|(15,[0,1,11],[118...|    (6,[],[])|(11,[7],[1.0])|\n",
            "+---+---+---+-------+---+------+--------+-----+------+-------+-------------+-------------+-------------+--------------------+-------------+--------------+\n",
            "only showing top 5 rows\n",
            "\n"
          ]
        }
      ]
    },
    {
      "cell_type": "code",
      "source": [
        "assembler = VectorAssembler(inputCols=[\n",
        "    'km', 'org_dummy', 'depart_dummy', 'dow_dummy', 'mon_dummy'\n",
        "], outputCol='features')\n",
        "\n",
        "flights = assembler.transform(flights.drop('features'))\n",
        "flights.show(5)"
      ],
      "metadata": {
        "colab": {
          "base_uri": "https://localhost:8080/"
        },
        "id": "ftEO1caE5in6",
        "outputId": "40a31d2b-0503-489e-c04f-7298cb695664"
      },
      "execution_count": null,
      "outputs": [
        {
          "output_type": "stream",
          "name": "stdout",
          "text": [
            "+---+---+---+-------+---+------+--------+-----+------+-------+-------------+-------------+-------------+-------------+--------------+--------------------+\n",
            "|mon|dom|dow|carrier|org|depart|duration|delay|    km|org_idx|    org_dummy|depart_bucket| depart_dummy|    dow_dummy|     mon_dummy|            features|\n",
            "+---+---+---+-------+---+------+--------+-----+------+-------+-------------+-------------+-------------+-------------+--------------+--------------------+\n",
            "|  0| 22|  2|     UA|ORD| 16.33|    82.0| 30.0| 509.0|    0.0|(7,[0],[1.0])|          5.0|(7,[5],[1.0])|(6,[2],[1.0])|(11,[0],[1.0])|(32,[0,1,13,17,21...|\n",
            "|  2| 20|  4|     UA|SFO|  6.17|    82.0| -8.0| 542.0|    1.0|(7,[1],[1.0])|          2.0|(7,[2],[1.0])|(6,[4],[1.0])|(11,[2],[1.0])|(32,[0,2,10,19,23...|\n",
            "|  9| 13|  1|     AA|ORD| 10.33|   195.0| -5.0|1989.0|    0.0|(7,[0],[1.0])|          3.0|(7,[3],[1.0])|(6,[1],[1.0])|(11,[9],[1.0])|(32,[0,1,11,16,30...|\n",
            "|  5|  2|  1|     UA|SFO|  7.98|   102.0|  2.0| 885.0|    1.0|(7,[1],[1.0])|          2.0|(7,[2],[1.0])|(6,[1],[1.0])|(11,[5],[1.0])|(32,[0,2,10,16,26...|\n",
            "|  7|  2|  6|     AA|ORD| 10.83|   135.0| 54.0|1180.0|    0.0|(7,[0],[1.0])|          3.0|(7,[3],[1.0])|    (6,[],[])|(11,[7],[1.0])|(32,[0,1,11,28],[...|\n",
            "+---+---+---+-------+---+------+--------+-----+------+-------+-------------+-------------+-------------+-------------+--------------+--------------------+\n",
            "only showing top 5 rows\n",
            "\n"
          ]
        }
      ]
    },
    {
      "cell_type": "code",
      "source": [
        "flights_train, flights_test = flights.randomSplit([0.8, 0.2])\n",
        "\n",
        "# Fit linear regressino model to training data\n",
        "regression = LinearRegression(labelCol='duration').fit(flights_train)\n",
        "\n",
        "# Make predictions on test data\n",
        "predictions = regression.transform(flights_test)\n",
        "\n",
        "# Calculate the RMSE on test data\n",
        "rmse = RegressionEvaluator(labelCol='duration', metricName='rmse').evaluate(predictions)\n",
        "print(\"The test RMSE is\", rmse)\n",
        "\n",
        "# Look at the model coefficients\n",
        "coeffs = regression.coefficients\n",
        "print(coeffs)"
      ],
      "metadata": {
        "colab": {
          "base_uri": "https://localhost:8080/"
        },
        "id": "xQ6Ts7OP5lFe",
        "outputId": "e0494629-8858-4382-eae5-08487aacb17a"
      },
      "execution_count": null,
      "outputs": [
        {
          "output_type": "stream",
          "name": "stdout",
          "text": [
            "The test RMSE is 10.596941156428072\n",
            "[0.0743745081357682,28.080022182909694,20.992850796566717,52.23265365441294,46.506711175054306,15.825096365880174,18.221482985119398,18.20700851254615,-14.840138824863654,0.8887440123978566,4.104608736311577,6.969772435531358,4.562187033555394,8.813302149847772,8.636299463691822,0.49588802266374105,0.23587285926243468,-0.03584378615316089,0.2055225291739623,0.3908229517033893,0.2432785829719603,-2.105666928287855,-2.5363969226737644,-2.218056117955404,-3.785174620784235,-4.44475763167747,-4.436487130997319,-4.5474021968989415,-4.376836875092133,-4.1081280578824,-3.024788439179824,-1.0642346673378236]\n"
          ]
        }
      ]
    },
    {
      "cell_type": "markdown",
      "source": [
        "### Flight duration model - Regularization!\n",
        "In the previous exercise you added more predictors to the flight duration model. The model performed well on testing data, but with so many coefficients it was difficult to interpret.\n",
        "\n",
        "In this exercise you'll use Lasso regression (regularized with a L1 penalty) to create a more parsimonious model. Many of the coefficients in the resulting model will be set to zero. This means that only a subset of the predictors actually contribute to the model. Despite the simpler model, it still produces a good RMSE on the testing data.\n",
        "\n",
        "You'll use a specific value for the regularization strength. Later you'll learn how to find the best value using cross validation.\n"
      ],
      "metadata": {
        "id": "AFKm2-lX5354"
      }
    },
    {
      "cell_type": "code",
      "source": [
        "# Fit Lasso model (α = 1) to training data\n",
        "regression = ____(____, ____, elasticNetParam=1).____(____)\n",
        "\n",
        "# Calculate the RMSE on testing data\n",
        "rmse = ____(____).____(____)\n",
        "print(\"The test RMSE is\", rmse)\n",
        "\n",
        "# Look at the model coefficients\n",
        "coeffs = regression.____\n",
        "print(coeffs)\n",
        "\n",
        "# Number of zero coefficients\n",
        "zero_coeff = sum([____ for beta in regression.coefficients])\n",
        "print(\"Number of coefficients equal "
      ],
      "metadata": {
        "id": "kV2mmLH98G-7"
      },
      "execution_count": null,
      "outputs": []
    },
    {
      "cell_type": "code",
      "source": [
        "# Fit Lasso model (α = 1) to training data\n",
        "regression = LinearRegression(labelCol='duration', regParam=1, elasticNetParam=1).fit(flights_train)\n",
        "#predictions = regression.transform(flights_test)\n",
        "\n",
        "# Calculate the RMSE on testing data\n",
        "rmse = RegressionEvaluator(labelCol='duration', metricName='rmse').evaluate(regression.transform(flights_test))\n",
        "print(\"The test RMSE is\", rmse)\n",
        "\n",
        "# Look at the model coefficients\n",
        "coeffs = regression.coefficients\n",
        "print(coeffs)\n",
        "\n",
        "# Number of zero coefficients\n",
        "#zero_coeff = sum([beta == 0 for beta in regression.coefficients])\n",
        "zero_coeff = len(regression.coefficients[regression.coefficients.values == 0])\n",
        "print(\"Number of coefficients equal to 0:\", zero_coeff)"
      ],
      "metadata": {
        "colab": {
          "base_uri": "https://localhost:8080/"
        },
        "id": "Mz64EHJm5nF6",
        "outputId": "e79d86e2-6aba-4abb-9878-ac785706322c"
      },
      "execution_count": null,
      "outputs": [
        {
          "output_type": "stream",
          "name": "stdout",
          "text": [
            "The test RMSE is 11.574541262501798\n",
            "[0.07347190274623178,5.635946175467288,0.0,28.783410017215616,21.914022164297975,-2.27188784640192,0.0,0.0,0.0,0.0,0.0,0.0,0.0,1.0561951743739815,0.9953671985670326,0.0,0.0,0.0,0.0,0.0,0.0,0.0,0.0,0.0,0.0,0.0,0.0,0.0,0.0,0.0,0.0,0.0]\n",
            "Number of coefficients equal to 0: 25\n"
          ]
        }
      ]
    }
  ]
}