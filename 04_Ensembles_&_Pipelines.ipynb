{
  "nbformat": 4,
  "nbformat_minor": 0,
  "metadata": {
    "colab": {
      "name": " 04_Ensembles & Pipelines.ipynb",
      "provenance": [],
      "mount_file_id": "1QONPJ4848xtR8ya27Cm0qcWd9-M9_tVT",
      "authorship_tag": "ABX9TyO6B2bYR0onNRKsAS25rrFP",
      "include_colab_link": true
    },
    "kernelspec": {
      "name": "python3",
      "display_name": "Python 3"
    },
    "language_info": {
      "name": "python"
    }
  },
  "cells": [
    {
      "cell_type": "markdown",
      "metadata": {
        "id": "view-in-github",
        "colab_type": "text"
      },
      "source": [
        "<a href=\"https://colab.research.google.com/github/vnlvih/Estudos-PySpark/blob/main/04_Ensembles_%26_Pipelines.ipynb\" target=\"_parent\"><img src=\"https://colab.research.google.com/assets/colab-badge.svg\" alt=\"Open In Colab\"/></a>"
      ]
    },
    {
      "cell_type": "code",
      "execution_count": 23,
      "metadata": {
        "colab": {
          "base_uri": "https://localhost:8080/"
        },
        "id": "m1FXb3GiDQuy",
        "outputId": "c54d4357-a3c4-441c-ba7c-3d8020e96a31"
      },
      "outputs": [
        {
          "output_type": "stream",
          "name": "stdout",
          "text": [
            "Requirement already satisfied: pyspark in /usr/local/lib/python3.7/dist-packages (3.2.1)\n",
            "Requirement already satisfied: py4j==0.10.9.3 in /usr/local/lib/python3.7/dist-packages (from pyspark) (0.10.9.3)\n"
          ]
        }
      ],
      "source": [
        "!pip install pyspark"
      ]
    },
    {
      "cell_type": "code",
      "source": [
        "from pyspark.sql import SparkSession\n",
        "spark = SparkSession.builder\\\n",
        "        .master(\"local\")\\\n",
        "        .appName(\"Colab\")\\\n",
        "        .config('spark.ui.port', '4050')\\\n",
        "        .getOrCreate()"
      ],
      "metadata": {
        "id": "vbLkPIs9HXVi"
      },
      "execution_count": 24,
      "outputs": []
    },
    {
      "cell_type": "code",
      "source": [
        "from pyspark.sql.functions import *\n",
        "from pyspark.sql.types import *"
      ],
      "metadata": {
        "id": "2XlTEypbHi8t"
      },
      "execution_count": 25,
      "outputs": []
    },
    {
      "cell_type": "markdown",
      "source": [
        "# **Pipeline**\n",
        "A pipeline consists of a series of operations.\n",
        "You could apply each operation individually... or you could just apply the pipeline!"
      ],
      "metadata": {
        "id": "R6PCItVllysE"
      }
    },
    {
      "cell_type": "code",
      "source": [
        "## Data Preparation ##\n",
        "\n",
        "schema = StructType([\n",
        "                     StructField(\"mon\", IntegerType()),\n",
        "                     StructField(\"dom\", IntegerType()),\n",
        "                     StructField(\"dow\", IntegerType()),\n",
        "                     StructField(\"carrier\", StringType()),\n",
        "                     StructField(\"flight\", StringType()),\n",
        "                     StructField(\"org\", StringType()),\n",
        "                     StructField(\"mile\", DoubleType()),\n",
        "                     StructField(\"depart\", DoubleType()),\n",
        "                     StructField(\"duration\", DoubleType()),\n",
        "                     StructField(\"delay\", DoubleType()),\n",
        "])\n",
        "\n",
        "flights = spark.read.csv(\"/content/drive/MyDrive/Data Science & Afins/DATACAMP/03. Big Data with PySpark/05. Machine Learning with PySpark/00. DataSets/flights.csv\", header=True, schema=schema)\n",
        "flights.show(5)"
      ],
      "metadata": {
        "colab": {
          "base_uri": "https://localhost:8080/"
        },
        "id": "wV7ruuSYHm6I",
        "outputId": "4dc29b31-df1f-4c45-ec71-7f3148c7c3d9"
      },
      "execution_count": 26,
      "outputs": [
        {
          "output_type": "stream",
          "name": "stdout",
          "text": [
            "+---+---+---+-------+------+---+------+------+--------+-----+\n",
            "|mon|dom|dow|carrier|flight|org|  mile|depart|duration|delay|\n",
            "+---+---+---+-------+------+---+------+------+--------+-----+\n",
            "| 11| 20|  6|     US|    19|JFK|2153.0|  9.48|   351.0| null|\n",
            "|  0| 22|  2|     UA|  1107|ORD| 316.0| 16.33|    82.0| 30.0|\n",
            "|  2| 20|  4|     UA|   226|SFO| 337.0|  6.17|    82.0| -8.0|\n",
            "|  9| 13|  1|     AA|   419|ORD|1236.0| 10.33|   195.0| -5.0|\n",
            "|  4|  2|  5|     AA|   325|ORD| 258.0|  8.92|    65.0| null|\n",
            "+---+---+---+-------+------+---+------+------+--------+-----+\n",
            "only showing top 5 rows\n",
            "\n"
          ]
        }
      ]
    },
    {
      "cell_type": "code",
      "source": [
        "## Filtering out missing data\n",
        "\n",
        "#Drop records with missing values in the delay column\n",
        "flights = flights.filter(\"delay IS NOT NULL\")\n",
        "\n",
        "\"\"\"\n",
        "- Derive a new km column from the mile column,\n",
        "  rounding to zero decimal places. One mile is 1.60934 km.\n",
        "  Remove the mile column.\n",
        "\"\"\"\n",
        "\n",
        "# Import the required function\n",
        "from pyspark.sql.functions import round\n",
        "\n",
        "# Convert 'mile' to 'km' and drop 'mile' column\n",
        "flights = flights.withColumn('km', round(flights.mile * 1.60934, 0)) \\\n",
        "                    .drop('mile')"
      ],
      "metadata": {
        "id": "TTPA-u9emPWX"
      },
      "execution_count": 27,
      "outputs": []
    },
    {
      "cell_type": "code",
      "source": [
        "flights.show(5)"
      ],
      "metadata": {
        "colab": {
          "base_uri": "https://localhost:8080/"
        },
        "id": "gta7fU2RoDSv",
        "outputId": "a7797bb6-359b-482c-8f01-66303d7e9d41"
      },
      "execution_count": 28,
      "outputs": [
        {
          "output_type": "stream",
          "name": "stdout",
          "text": [
            "+---+---+---+-------+------+---+------+--------+-----+------+\n",
            "|mon|dom|dow|carrier|flight|org|depart|duration|delay|    km|\n",
            "+---+---+---+-------+------+---+------+--------+-----+------+\n",
            "|  0| 22|  2|     UA|  1107|ORD| 16.33|    82.0| 30.0| 509.0|\n",
            "|  2| 20|  4|     UA|   226|SFO|  6.17|    82.0| -8.0| 542.0|\n",
            "|  9| 13|  1|     AA|   419|ORD| 10.33|   195.0| -5.0|1989.0|\n",
            "|  5|  2|  1|     UA|   704|SFO|  7.98|   102.0|  2.0| 885.0|\n",
            "|  7|  2|  6|     AA|   380|ORD| 10.83|   135.0| 54.0|1180.0|\n",
            "+---+---+---+-------+------+---+------+--------+-----+------+\n",
            "only showing top 5 rows\n",
            "\n"
          ]
        }
      ]
    },
    {
      "cell_type": "markdown",
      "source": [
        "## Categorical columns\n",
        "\n",
        "In the flights data there are two columns, carrier and org, which hold categorical data. You need to transform those columns into indexed numerical values."
      ],
      "metadata": {
        "id": "dBS9z1I6oS1j"
      }
    },
    {
      "cell_type": "code",
      "source": [
        "from pyspark.ml.feature import StringIndexer\n",
        "\n",
        "\"\"\"\n",
        "Create an indexer to convert the 'org' column into an indexed column called 'org_idx'.\n",
        "\"\"\"\n",
        "\n",
        "indexer = StringIndexer(inputCol=\"org\", outputCol='org_idx').fit(flights)"
      ],
      "metadata": {
        "id": "EAexZybooETu"
      },
      "execution_count": 29,
      "outputs": []
    },
    {
      "cell_type": "markdown",
      "source": [
        "## One-hot encoding\n"
      ],
      "metadata": {
        "id": "BivOYAgaoYU1"
      }
    },
    {
      "cell_type": "code",
      "source": [
        "# Import the one hot encoder class\n",
        "from pyspark.ml.feature import OneHotEncoder\n",
        "\"\"\"\n",
        "Create a one-hot encoder to convert the 'org_idx' and 'dow'\n",
        " columns into dummy variable columns called 'org_dummy' and 'dow_dummy'.\n",
        "\n",
        "\"\"\"\n",
        "# Create an instance of the one hot encoder\n",
        "onehot = OneHotEncoder(inputCols=[\"org_idx\",\"dow\"], outputCols=[\"org_dummy\",\"dow_dummy\"])"
      ],
      "metadata": {
        "id": "4MdEqxy4oXBl"
      },
      "execution_count": 30,
      "outputs": []
    },
    {
      "cell_type": "markdown",
      "source": [
        "## Assembling columns"
      ],
      "metadata": {
        "id": "dc4nyQdwofan"
      }
    },
    {
      "cell_type": "code",
      "source": [
        "# Import the necessary class\n",
        "from pyspark.ml.feature import VectorAssembler\n",
        "\n",
        "\"\"\"\n",
        "Create an assembler which will combine the 'km' column with the \n",
        "two dummy variable columns. The output column should be called 'features'.\n",
        "\"\"\"\n",
        "\n",
        "# Create an assembler object\n",
        "assembler = VectorAssembler(inputCols=[\n",
        "    \"km\",\"org_dummy\",\"dow_dummy\"\n",
        "], outputCol='features')"
      ],
      "metadata": {
        "id": "PNf02V2Yobns"
      },
      "execution_count": 31,
      "outputs": []
    },
    {
      "cell_type": "code",
      "source": [
        "from pyspark.ml.regression import LinearRegression\n",
        "from pyspark.ml.evaluation import RegressionEvaluator\n",
        "\n",
        "\"\"\"\n",
        "Create a linear regression object to predict flight duration.\n",
        "\"\"\"\n",
        "\n",
        "# Create a regression object and train on training data\n",
        "regression = LinearRegression(labelCol = \"duration\")"
      ],
      "metadata": {
        "id": "RIx2Y9r9ojYV"
      },
      "execution_count": 32,
      "outputs": []
    },
    {
      "cell_type": "code",
      "source": [
        "# Split into training and testing sets in a 80:20 ratio\n",
        "flights_train, flights_test = flights.randomSplit([.8,.2], seed=17)"
      ],
      "metadata": {
        "id": "_StxZ8qHqUjJ"
      },
      "execution_count": 33,
      "outputs": []
    },
    {
      "cell_type": "markdown",
      "source": [
        "- Import the class for creating a pipeline.\n",
        "- Create a pipeline object and specify the indexer, onehot, assembler and - regression stages, in this order.\n",
        "- Train the pipeline on the training data.\n",
        "- Make predictions on the testing data."
      ],
      "metadata": {
        "id": "v6oCfiPgqx3c"
      }
    },
    {
      "cell_type": "code",
      "source": [
        "# Import class for creating a pipeline\n",
        "from pyspark.ml import Pipeline\n",
        "\n",
        "# Construct a pipeline\n",
        "pipeline = Pipeline(stages=[indexer, onehot, assembler, regression])\n",
        "\n",
        "# Train the pipeline on the training data\n",
        "pipeline = pipeline.fit(flights_train)\n",
        "\n",
        "# Make predictions on the testing data\n",
        "predictions = pipeline.transform(flights_test)"
      ],
      "metadata": {
        "id": "vNpHMCgeqsrm"
      },
      "execution_count": 34,
      "outputs": []
    },
    {
      "cell_type": "markdown",
      "source": [
        "### **SMS spam pipeline**\n",
        "You haven't looked at the SMS data for quite a while. Last time we did the following:\n",
        "\n",
        "- split the text into tokens\n",
        "- removed stop words\n",
        "- applied the hashing trick\n",
        "- converted the data from counts to IDF and\n",
        "- trained a logistic regression model.\n",
        "Each of these steps was done independently. This seems like a great application for a pipeline!\n",
        "\n",
        "The Pipeline and LogisticRegression classes have already been imported into the session, so you don't need to worry about that!"
      ],
      "metadata": {
        "id": "OyHSXiXpraly"
      }
    },
    {
      "cell_type": "code",
      "source": [
        "# Specify column names and types\n",
        "schema = StructType([\n",
        "    StructField(\"id\", IntegerType()),\n",
        "    StructField(\"text\", StringType()),\n",
        "    StructField(\"label\", IntegerType())\n",
        "])\n",
        "\n",
        "# Load data from a delimited file\n",
        "sms = spark.read.csv('/content/drive/MyDrive/Data Science & Afins/DATACAMP/03. Big Data with PySpark/05. Machine Learning with PySpark/00. DataSets/sms.csv', sep=';', header=False, schema=schema)\n",
        "\n",
        "# Print schema of DataFrame\n",
        "sms.printSchema()"
      ],
      "metadata": {
        "colab": {
          "base_uri": "https://localhost:8080/"
        },
        "id": "ydiTAYierNG-",
        "outputId": "c20b5d63-be0a-4344-c0ec-a20128d21195"
      },
      "execution_count": 35,
      "outputs": [
        {
          "output_type": "stream",
          "name": "stdout",
          "text": [
            "root\n",
            " |-- id: integer (nullable = true)\n",
            " |-- text: string (nullable = true)\n",
            " |-- label: integer (nullable = true)\n",
            "\n"
          ]
        }
      ]
    },
    {
      "cell_type": "code",
      "source": [
        "sms.show(5)"
      ],
      "metadata": {
        "colab": {
          "base_uri": "https://localhost:8080/"
        },
        "id": "KBy-IyMQr0eg",
        "outputId": "6e17508b-9e30-49ad-fafa-9307e5e690d6"
      },
      "execution_count": 36,
      "outputs": [
        {
          "output_type": "stream",
          "name": "stdout",
          "text": [
            "+---+--------------------+-----+\n",
            "| id|                text|label|\n",
            "+---+--------------------+-----+\n",
            "|  1|Sorry, I'll call ...|    0|\n",
            "|  2|Dont worry. I gue...|    0|\n",
            "|  3|Call FREEPHONE 08...|    1|\n",
            "|  4|Win a 1000 cash p...|    1|\n",
            "|  5|Go until jurong p...|    0|\n",
            "+---+--------------------+-----+\n",
            "only showing top 5 rows\n",
            "\n"
          ]
        }
      ]
    },
    {
      "cell_type": "code",
      "source": [
        "from pyspark.ml.feature import Tokenizer, StopWordsRemover, HashingTF, IDF\n",
        "from pyspark.ml.classification import LogisticRegression"
      ],
      "metadata": {
        "id": "xlmmtAAssHIX"
      },
      "execution_count": 37,
      "outputs": []
    },
    {
      "cell_type": "code",
      "source": [
        "# Break text into tokens at non-word characters\n",
        "\"\"\"\n",
        "Create an object for splitting text into tokens.\n",
        "\n",
        "\"\"\"\n",
        "\n",
        "tokenizer = Tokenizer(inputCol='text', outputCol='words')\n",
        "\n",
        "# Remove stop words\n",
        "\n",
        "\"\"\"\n",
        "Create an object to remove stop words. \n",
        "Rather than explicitly giving the input column name, use the getOutputCol() \n",
        "method on the previous object.\n",
        "\"\"\"\n",
        "remover = StopWordsRemover(inputCol=tokenizer.getOutputCol(), outputCol='terms')\n",
        "\n",
        "# Apply the hashing trick and transform to TF-IDF\n",
        "\n",
        "\"\"\"\n",
        "Create objects for applying the hashing trick and \n",
        "transforming the data into a TF-IDF. \n",
        "Use the getOutputCol() method again.\n",
        "\"\"\"\n",
        "\n",
        "hasher = HashingTF(inputCol=remover.getOutputCol(), outputCol=\"hash\")\n",
        "idf = IDF(inputCol=hasher.getOutputCol(), outputCol=\"features\")\n",
        "\n",
        "# Create a logistic regression object and add everything to a pipeline\n",
        "\n",
        "\"\"\"\n",
        "Create a pipeline which wraps all of the above \n",
        "steps as well as an object to create a Logistic Regression model.\n",
        "\"\"\"\n",
        "logistic = LogisticRegression()\n",
        "pipeline = Pipeline(stages=[tokenizer, remover, hasher, idf, logistic])"
      ],
      "metadata": {
        "id": "u11o9T54sfjr"
      },
      "execution_count": 38,
      "outputs": []
    },
    {
      "cell_type": "markdown",
      "source": [
        "## **Cross validating simple flight duration model**\n",
        "\n",
        "You've already built a few models for predicting flight duration and evaluated them with a simple train/test split. However, cross-validation provides a much better way to evaluate model performance.\n",
        "\n",
        "In this exercise you're going to train a simple model for flight duration using cross-validation. Travel time is usually strongly correlated with distance, so using the km column alone should give a decent model."
      ],
      "metadata": {
        "id": "k08I-tWDzn8y"
      }
    },
    {
      "cell_type": "code",
      "source": [
        "# Create an assembler object\n",
        "assembler = VectorAssembler(inputCols=[\n",
        "    \"km\"\n",
        "], outputCol='features')\n",
        "\n",
        "# Consolidate predictor columns\n",
        "flights_train = assembler.transform(flights_train)\n",
        "flights_test = assembler.transform(flights_test)"
      ],
      "metadata": {
        "id": "21OSHXo43K2e"
      },
      "execution_count": 39,
      "outputs": []
    },
    {
      "cell_type": "code",
      "source": [
        "from pyspark.ml.tuning import CrossValidator, ParamGridBuilder\n",
        "\n",
        "\n",
        "# Create an empty parameter grid\n",
        "params = ParamGridBuilder().build()\n",
        "\n",
        "# Create objects for building and evaluating a regression model\n",
        "regression = LinearRegression(labelCol = \"duration\")\n",
        "evaluator = RegressionEvaluator(labelCol=\"duration\")\n",
        "\n",
        "# Create a cross validator\n",
        "cv = CrossValidator(estimator=regression, estimatorParamMaps=params, evaluator=evaluator, numFolds=5)\n",
        "\n",
        "# Train and test model on multiple folds of the training data\n",
        "cv = cv.fit(flights_train)\n",
        "\n",
        "# NOTE: Since cross-valdiation builds multiple models, the fit() method can take a little while to complete."
      ],
      "metadata": {
        "id": "WdE-mxwszgfD"
      },
      "execution_count": 40,
      "outputs": []
    },
    {
      "cell_type": "markdown",
      "source": [
        "## **Cross validating flight duration model pipeline**\n",
        "The cross-validated model that you just built was simple, using km alone to predict duration.\n",
        "\n",
        "Another important predictor of flight duration is the origin airport. Flights generally take longer to get into the air from busy airports. Let's see if adding this predictor improves the model!\n",
        "\n",
        "In this exercise you'll add the org field to the model. However, since org is categorical, there's more work to be done before it can be included: it must first be transformed to an index and then one-hot encoded before being assembled with km and used to build the regression model. We'll wrap these operations up in a pipeline.\n",
        "\n",
        "The following objects have already been created:\n",
        "\n",
        "- params — an empty parameter grid\n",
        "- evaluator — a regression evaluator\n",
        "- regression — a LinearRegression object with labelCol='duration'.\n",
        "- The StringIndexer, OneHotEncoderEstimator, VectorAssembler and PipelineCrossValidator classes have already been imported."
      ],
      "metadata": {
        "id": "yHyFxAXoZwej"
      }
    },
    {
      "cell_type": "code",
      "source": [
        "#Create an indexer for the org field\n",
        "indexer = StringIndexer(inputCol=\"org\", outputCol='org_idx')\n",
        "\n",
        "#Create an instance of the one hot encoder\n",
        "onehot = OneHotEncoder(inputCols=[\"org_idx\"], outputCols=[\"org_dummy\"])\n",
        "\n",
        "#Create an assembler object\n",
        "assembler = VectorAssembler(inputCols=[\n",
        "    \"km\",\"org_dummy\"\n",
        "], outputCol='features')\n",
        "\n",
        "#Create an empty parameter grid\n",
        "params = ParamGridBuilder().build()\n",
        "\n",
        "#Create objects for building and evaluating a regression model\n",
        "regression = LinearRegression(labelCol = \"duration\")\n",
        "evaluator = RegressionEvaluator(labelCol=\"duration\")\n",
        "\n",
        "# Create a pipeline and cross-validator.\n",
        "pipeline = Pipeline(stages=[indexer, onehot, assembler, regression])\n",
        "cv = CrossValidator(estimator=pipeline,\n",
        "          estimatorParamMaps=params,\n",
        "          evaluator=evaluator)"
      ],
      "metadata": {
        "id": "EPUODRkm2IK_"
      },
      "execution_count": 41,
      "outputs": []
    },
    {
      "cell_type": "markdown",
      "source": [
        "## **Grid Search**\n",
        "\n",
        "### **Optimizing flights linear regression**\n",
        "Up until now you've been using the default hyper-parameters when building your models. In this exercise you'll use cross validation to choose an optimal (or close to optimal) set of model hyper-parameters.\n",
        "\n",
        "The following have already been created:\n",
        "\n",
        "- regression — a LinearRegression object\n",
        "- pipeline — a pipeline with string indexer, one-hot encoder, vector assembler and linear regression and\n",
        "- evaluator — a RegressionEvaluator object."
      ],
      "metadata": {
        "id": "_tKkbiEQgX_J"
      }
    },
    {
      "cell_type": "code",
      "source": [
        "# Create parameter grid\n",
        "params = ParamGridBuilder()\n",
        "\n",
        "# Add grids for two parameters\n",
        "params = params.addGrid(regression.regParam, [0.01,0.1,1.0,10.0]) \\\n",
        "               .addGrid(regression.elasticNetParam, [0.0,0.5,1.0])\n",
        "\n",
        "# Build the parameter grid\n",
        "params = params.build()\n",
        "print('Number of models to be tested: ', len(params))\n",
        "\n",
        "# Create cross-validator\n",
        "cv = CrossValidator(estimator=pipeline, estimatorParamMaps=params, evaluator=evaluator, numFolds=5)"
      ],
      "metadata": {
        "colab": {
          "base_uri": "https://localhost:8080/"
        },
        "id": "QvZryhl4fQhO",
        "outputId": "88852985-2f2f-4370-c69b-3cdc0c696e37"
      },
      "execution_count": 42,
      "outputs": [
        {
          "output_type": "stream",
          "name": "stdout",
          "text": [
            "Number of models to be tested:  12\n"
          ]
        }
      ]
    },
    {
      "cell_type": "markdown",
      "source": [
        "## **Dissecting the best flight duration model**\n",
        "You just set up a CrossValidator to find good parameters for the linear regression model predicting flight duration.\n",
        "\n",
        "The model pipeline has multiple stages (objects of type StringIndexer, OneHotEncoderEstimator, VectorAssembler and LinearRegression), which operate in sequence. The stages are available as the stages attribute on the pipeline object. They are represented by a list and the stages are executed in the sequence in which they appear in the list.\n",
        "\n",
        "Now you're going to take a closer look at the pipeline, split out the stages and use it to make predictions on the testing data.\n",
        "\n",
        "The following objects have already been created:\n",
        "\n",
        "- cv — a trained CrossValidatorModel object and\n",
        "- evaluator — a RegressionEvaluator object.\n",
        "\n",
        "\n",
        "The flights data have been randomly split into flights_train and flights_test."
      ],
      "metadata": {
        "id": "myO_2mWXAGNa"
      }
    },
    {
      "cell_type": "code",
      "source": [
        "# Split into training and testing sets in a 80:20 ratio\n",
        "flights_train, flights_test = flights.randomSplit([.8,.2], seed=17)"
      ],
      "metadata": {
        "id": "F5mlIELBkS_d"
      },
      "execution_count": 43,
      "outputs": []
    },
    {
      "cell_type": "code",
      "source": [
        "# Get the best model from cross validation\n",
        "\n",
        "#Fit de model\n",
        "\n",
        "cv = cv.setSeed(13).fit(flights_train)\n",
        "\n",
        "print(cv.avgMetrics)\n",
        "\n",
        "\"\"\"\n",
        "Retrieve the best model.\n",
        "\"\"\"\n",
        "best_model = cv.bestModel \n",
        "\n",
        "\n",
        "# Look at the stages in the best model\n",
        "print(best_model.stages)\n",
        "\n",
        "# Get the parameters for the LinearRegression object in the best model\n",
        "\"\"\"\n",
        "Isolate the linear regression stage and extract its parameters.\n",
        "\"\"\"\n",
        "best_model.stages[3].extractParamMap()\n",
        "\n",
        "# Generate predictions on testing data using the best model then calculate RMSE\n",
        "\"\"\"\n",
        "Use the best model to generate predictions on the testing data and calculate the RMSE.\n",
        "\"\"\"\n",
        "predictions = best_model.transform(flights_test)\n",
        "print(\"RMSE =\", evaluator.evaluate(predictions))"
      ],
      "metadata": {
        "colab": {
          "base_uri": "https://localhost:8080/"
        },
        "id": "BVhgXPZjAXY0",
        "outputId": "0e492043-e99a-406d-daa9-382202b7aec4"
      },
      "execution_count": 48,
      "outputs": [
        {
          "output_type": "stream",
          "name": "stdout",
          "text": [
            "[StringIndexerModel: uid=StringIndexer_43b4b64e4bf3, handleInvalid=error, OneHotEncoderModel: uid=OneHotEncoder_8e4b5240feae, dropLast=true, handleInvalid=error, numInputCols=1, numOutputCols=1, VectorAssembler_6013c13ea5de, LinearRegressionModel: uid=LinearRegression_60cc1261f65a, numFeatures=8]\n",
            "RMSE = 11.075754750996959\n"
          ]
        }
      ]
    },
    {
      "cell_type": "markdown",
      "source": [
        "### SMS spam optimized\n",
        "The pipeline you built earlier for the SMS spam model used the default parameters for all of the elements in the pipeline. It's very unlikely that these parameters will give a particularly good model though.\n",
        "\n",
        "In this exercise you'll set up a parameter grid which can be used with cross validation to choose a good set of parameters for the SMS spam classifier."
      ],
      "metadata": {
        "id": "hWqQbbJ5FA5v"
      }
    },
    {
      "cell_type": "code",
      "source": [
        "# Create parameter grid\n",
        "params = ParamGridBuilder()\n",
        "\n",
        "# Add grid for hasing trick parameters\n",
        "\"\"\"\n",
        "Add grid points for numFeatures and binary parameters to the HashingTF object, \n",
        "giving values 1024, 4096 and 16384, and True and False, respectively.\n",
        "\"\"\"\n",
        "\n",
        "params = params.addGrid(hasher.numFeatures, (1024,4096,16384))\\\n",
        "              .addGrid(hasher.binary, (True, False))\n",
        "\n",
        "# Add grid for logistic regression parameters\n",
        "\"\"\"\n",
        "Add grid points for regParam and elasticNetParam parameters to \n",
        "the LogisticRegression object, giving values of 0.01, 0.1, 1.0 \n",
        "and 10.0, and 0.0, 0.5, and 1.0 respectively.\n",
        "\"\"\"\n",
        "params = params.addGrid(logistic.regParam, (0.01, 0.1, 1.0, 10.0))\\\n",
        "               .addGrid(logistic.elasticNetParam,(0.0,0.5,1.0))\n",
        "\n",
        "#Buil parameter grid\n",
        "params = params.build()\n",
        "\n",
        "print('Number of models to be tested: ', len(params))"
      ],
      "metadata": {
        "colab": {
          "base_uri": "https://localhost:8080/"
        },
        "id": "8a1IRnvoAYfp",
        "outputId": "230cf7df-9760-4d44-f1f8-fe23161cab5c"
      },
      "execution_count": 50,
      "outputs": [
        {
          "output_type": "stream",
          "name": "stdout",
          "text": [
            "Number of models to be tested:  72\n"
          ]
        }
      ]
    },
    {
      "cell_type": "markdown",
      "source": [
        "## Ensemble\n",
        "- collection of models\n",
        "- **Wisdom of the Crowd** - collective opinion of a group better than that of a single expert\n",
        "- Random Forest\n",
        "    - an ensemble of Decision Tree\n",
        "    - Creating model diversity\n",
        "        - each tree trained on random subset of data\n",
        "        - random subset of features used for splitting at each node\n",
        "    - No two trees in the forest should be the same\n",
        "- Gradient-Boosted Trees\n",
        "    - Iterative boosting algorithm:\n",
        "        1. Build a Decision Tree and add to ensemble\n",
        "        2. Predict label for each training instance using ensemble\n",
        "        3. Compare predictions with known labels\n",
        "        4. Emphasize training instances with incorrect predictions\n",
        "        5. return to 1."
      ],
      "metadata": {
        "id": "Z9ODW6w-JY4b"
      }
    },
    {
      "cell_type": "markdown",
      "source": [
        "### Delayed flights with Gradient-Boosted Trees\n",
        "You've previously built a classifier for flights likely to be delayed using a Decision Tree. In this exercise you'll compare a Decision Tree model to a Gradient-Boosted Trees model."
      ],
      "metadata": {
        "id": "yTSfFMF3J5G9"
      }
    },
    {
      "cell_type": "code",
      "source": [
        "assembler = VectorAssembler(inputCols=[\"mon\",\"depart\",\"duration\"], outputCol=\"features\")\n",
        "flights = assembler.transform(flights.drop(\"features\"))\n",
        "flights = flights.withColumn(\"label\", (flights.delay >= 15).cast(\"integer\"))\n",
        "flights = flights.select(\"mon\",\"depart\",\"duration\",\"features\",\"label\")\n",
        "flights = flights.dropna()\n",
        "\n",
        "flights.show(5)"
      ],
      "metadata": {
        "colab": {
          "base_uri": "https://localhost:8080/"
        },
        "id": "1bQTmtOnG8cz",
        "outputId": "3b002731-be38-450f-d05f-baa0004e2ab4"
      },
      "execution_count": 54,
      "outputs": [
        {
          "output_type": "stream",
          "name": "stdout",
          "text": [
            "+---+------+--------+-----------------+-----+\n",
            "|mon|depart|duration|         features|label|\n",
            "+---+------+--------+-----------------+-----+\n",
            "|  0| 16.33|    82.0| [0.0,16.33,82.0]|    1|\n",
            "|  2|  6.17|    82.0|  [2.0,6.17,82.0]|    0|\n",
            "|  9| 10.33|   195.0|[9.0,10.33,195.0]|    0|\n",
            "|  5|  7.98|   102.0| [5.0,7.98,102.0]|    0|\n",
            "|  7| 10.83|   135.0|[7.0,10.83,135.0]|    1|\n",
            "+---+------+--------+-----------------+-----+\n",
            "only showing top 5 rows\n",
            "\n"
          ]
        }
      ]
    },
    {
      "cell_type": "code",
      "source": [
        "\"\"\"\n",
        "Import the classes required to create Decision Tree and Gradient-Boosted Tree classifiers.\n",
        "\"\"\"\n",
        "#Import the classes required\n",
        "from pyspark.ml.classification import DecisionTreeClassifier, GBTClassifier\n",
        "from pyspark.ml.evaluation import BinaryClassificationEvaluator\n",
        "from pprint import pprint\n",
        "\n",
        "flights_train, flights_test = flights.randomSplit([.8,.2])\n",
        "\n",
        "\n",
        "\"\"\"\n",
        "Create Decision Tree and Gradient-Boosted Tree classifiers. Train on the training data.\n",
        "\"\"\"\n",
        "#Create model objects and train on training data\n",
        "tree = DecisionTreeClassifier().fit(flights_train)\n",
        "gbt = GBTClassifier().fit(flights_train)\n",
        "\n",
        "\"\"\"\n",
        "Create an evaluator and calculate AUC on testing data for both classifiers. Which model performs better?\n",
        "\"\"\"\n",
        "# Compare AUC on test data\n",
        "evaluator = BinaryClassificationEvaluator()\n",
        "evaluator.evaluate(tree.transform(flights_test))\n",
        "evaluator.evaluate(gbt.transform(flights_test))\n",
        "\n",
        "\"\"\"\n",
        "For the Gradient-Boosted Tree classifier print the number of trees and the relative importance of features.\n",
        "\"\"\"\n",
        "#Find the number of trees and the relative importance of featuers\n",
        "pprint(gbt.trees)\n",
        "#print(len(gbt.trees))\n",
        "print(gbt.featureImportances)"
      ],
      "metadata": {
        "colab": {
          "base_uri": "https://localhost:8080/"
        },
        "id": "63jCpghMLI79",
        "outputId": "2b7c2a90-4cd6-479e-8839-2e192b7d2594"
      },
      "execution_count": 55,
      "outputs": [
        {
          "output_type": "stream",
          "name": "stdout",
          "text": [
            "[DecisionTreeRegressionModel: uid=dtr_0ef27271b109, depth=5, numNodes=63, numFeatures=3,\n",
            " DecisionTreeRegressionModel: uid=dtr_013ab6c475b9, depth=5, numNodes=63, numFeatures=3,\n",
            " DecisionTreeRegressionModel: uid=dtr_b2ee00b5ffe4, depth=5, numNodes=63, numFeatures=3,\n",
            " DecisionTreeRegressionModel: uid=dtr_dc5192677f5a, depth=5, numNodes=63, numFeatures=3,\n",
            " DecisionTreeRegressionModel: uid=dtr_9ff8a9835383, depth=5, numNodes=63, numFeatures=3,\n",
            " DecisionTreeRegressionModel: uid=dtr_e5b6caa4ad18, depth=5, numNodes=63, numFeatures=3,\n",
            " DecisionTreeRegressionModel: uid=dtr_639b802e98d0, depth=5, numNodes=63, numFeatures=3,\n",
            " DecisionTreeRegressionModel: uid=dtr_2d41911bdc9a, depth=5, numNodes=63, numFeatures=3,\n",
            " DecisionTreeRegressionModel: uid=dtr_2bbb623d1380, depth=5, numNodes=63, numFeatures=3,\n",
            " DecisionTreeRegressionModel: uid=dtr_a5ded268c70a, depth=5, numNodes=63, numFeatures=3,\n",
            " DecisionTreeRegressionModel: uid=dtr_2a2f8eb0c70d, depth=5, numNodes=63, numFeatures=3,\n",
            " DecisionTreeRegressionModel: uid=dtr_c0d8d6f532a8, depth=5, numNodes=63, numFeatures=3,\n",
            " DecisionTreeRegressionModel: uid=dtr_43cd0e510675, depth=5, numNodes=59, numFeatures=3,\n",
            " DecisionTreeRegressionModel: uid=dtr_1a6e579553b1, depth=5, numNodes=63, numFeatures=3,\n",
            " DecisionTreeRegressionModel: uid=dtr_05f256e915c9, depth=5, numNodes=63, numFeatures=3,\n",
            " DecisionTreeRegressionModel: uid=dtr_0feaa57e65ed, depth=5, numNodes=63, numFeatures=3,\n",
            " DecisionTreeRegressionModel: uid=dtr_209ee0861c3a, depth=5, numNodes=63, numFeatures=3,\n",
            " DecisionTreeRegressionModel: uid=dtr_4a31fca92080, depth=5, numNodes=63, numFeatures=3,\n",
            " DecisionTreeRegressionModel: uid=dtr_a9391bfd43f0, depth=5, numNodes=63, numFeatures=3,\n",
            " DecisionTreeRegressionModel: uid=dtr_4d4dc96d96f9, depth=5, numNodes=61, numFeatures=3]\n",
            "(3,[0,1,2],[0.3166891584019078,0.33855066563005987,0.34476017596803227])\n"
          ]
        }
      ]
    },
    {
      "cell_type": "markdown",
      "source": [
        "### Delayed flights with a Random Forest\n",
        "In this exercise you'll bring together cross validation and ensemble methods. You'll be training a Random Forest classifier to predict delayed flights, using cross validation to choose the best values for model parameters.\n",
        "\n",
        "You'll find good values for the following parameters:\n",
        "\n",
        "- `featureSubsetStrategy` — the number of features to consider for splitting at each node and\n",
        "- `maxDepth` — the maximum number of splits along any branch.\n",
        "\n",
        "***Unfortunately building this model takes too long, so we won't be running the .fit() method on the pipeline.***"
      ],
      "metadata": {
        "id": "W4efZNyeOxY6"
      }
    },
    {
      "cell_type": "code",
      "source": [
        "from pyspark.ml.classification import RandomForestClassifier\n",
        "\n",
        "#Create a random forest classifier\n",
        "forest = RandomForestClassifier()\n",
        "\n",
        "\"\"\"\n",
        "Create a parameter grid builder object. Add grid points for the featuresSubsetStrategy and maxDepth parameters.\n",
        "\"\"\"\n",
        "params = ParamGridBuilder()\\\n",
        "        .addGrid(forest.featureSubsetStrategy, [\"all\",\"onethird\",\"sqrt\",\"log2\"])\\\n",
        "        .addGrid(forest.maxDepth, [2,5,10])\\\n",
        "        .build()\n",
        "\n",
        "#Create a binary classification evaluator\n",
        "evaluator = BinaryClassificationEvaluator()\n",
        "\n",
        "\"\"\"\n",
        "Create a cross-validator object, specifying the estimator, parameter grid and evaluator. Choose 5-fold cross validation\n",
        "\"\"\"\n",
        "cv = CrossValidator(estimator=forest, estimatorParamMaps=params,\n",
        "                    evaluator=evaluator, numFolds=5)"
      ],
      "metadata": {
        "id": "-ZE571IrO0QW"
      },
      "execution_count": 58,
      "outputs": []
    },
    {
      "cell_type": "markdown",
      "source": [
        "### Evaluating Random Forest\n",
        "In this final exercise you'll be evaluating the results of cross-validation on a Random Forest model."
      ],
      "metadata": {
        "id": "5ufzWrx-TMhv"
      }
    },
    {
      "cell_type": "code",
      "source": [
        "#Fit de model\n",
        "cvModel = cv.fit(flights_train)"
      ],
      "metadata": {
        "id": "HKevBYG5UH4v"
      },
      "execution_count": 61,
      "outputs": []
    },
    {
      "cell_type": "code",
      "source": [
        "import numpy as np"
      ],
      "metadata": {
        "colab": {
          "base_uri": "https://localhost:8080/"
        },
        "id": "ixCrLzX_U2yo",
        "outputId": "663a3f0f-90d5-4865-9b66-e02c8f163eb4"
      },
      "execution_count": 66,
      "outputs": [
        {
          "output_type": "stream",
          "name": "stdout",
          "text": [
            "<class 'float'>\n",
            "<class 'float'>\n",
            "<class 'float'>\n",
            "<class 'float'>\n",
            "<class 'float'>\n",
            "<class 'float'>\n",
            "<class 'float'>\n",
            "<class 'float'>\n",
            "<class 'float'>\n",
            "<class 'float'>\n",
            "<class 'float'>\n",
            "<class 'float'>\n"
          ]
        }
      ]
    },
    {
      "cell_type": "code",
      "source": [
        "# Average AUC for each parameter combination in grid\n",
        "avg_auc = cvModel.avgMetrics\n",
        "\n",
        "# Average AUC for the best model\n",
        "best_model_auc = np.max(avg_auc)\n",
        "\n",
        "# What's the optimal paramter value?\n",
        "opt_max_depth = cvModel.bestModel.explainParam('maxDepth')\n",
        "opt_feat_substrat = cvModel.bestModel.explainParam('featureSubsetStrategy')\n",
        "\n",
        "# AUC for best model on test data\n",
        "best_auc = evaluator.evaluate(cvModel.transform(flights_test))\n",
        "print(best_auc)"
      ],
      "metadata": {
        "colab": {
          "base_uri": "https://localhost:8080/"
        },
        "id": "qmYO8VgXSUGE",
        "outputId": "d8529b2c-9e5b-47f8-951c-0b99a3c7a97c"
      },
      "execution_count": 69,
      "outputs": [
        {
          "output_type": "stream",
          "name": "stdout",
          "text": [
            "0.6797834961822065\n"
          ]
        }
      ]
    }
  ]
}