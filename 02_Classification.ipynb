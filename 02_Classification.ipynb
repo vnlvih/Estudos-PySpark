{
  "nbformat": 4,
  "nbformat_minor": 0,
  "metadata": {
    "colab": {
      "name": "02_Classification.ipynb",
      "provenance": [],
      "mount_file_id": "1nGz4UhAbmuVHUE3rwYmVKfX9JPNxBpws",
      "authorship_tag": "ABX9TyNQOURJZmyDrKATWK+y1v/3",
      "include_colab_link": true
    },
    "kernelspec": {
      "name": "python3",
      "display_name": "Python 3"
    },
    "language_info": {
      "name": "python"
    }
  },
  "cells": [
    {
      "cell_type": "markdown",
      "metadata": {
        "id": "view-in-github",
        "colab_type": "text"
      },
      "source": [
        "<a href=\"https://colab.research.google.com/github/vnlvih/Estudos-PySpark/blob/main/02_Classification.ipynb\" target=\"_parent\"><img src=\"https://colab.research.google.com/assets/colab-badge.svg\" alt=\"Open In Colab\"/></a>"
      ]
    },
    {
      "cell_type": "code",
      "execution_count": 1,
      "metadata": {
        "id": "N3mXNueFVnGk",
        "colab": {
          "base_uri": "https://localhost:8080/"
        },
        "outputId": "d0b1ccd1-be40-4f64-c9e5-d07f761c65e0"
      },
      "outputs": [
        {
          "output_type": "stream",
          "name": "stdout",
          "text": [
            "Collecting pyspark\n",
            "  Downloading pyspark-3.2.1.tar.gz (281.4 MB)\n",
            "\u001b[K     |████████████████████████████████| 281.4 MB 35 kB/s \n",
            "\u001b[?25hCollecting py4j==0.10.9.3\n",
            "  Downloading py4j-0.10.9.3-py2.py3-none-any.whl (198 kB)\n",
            "\u001b[K     |████████████████████████████████| 198 kB 51.9 MB/s \n",
            "\u001b[?25hBuilding wheels for collected packages: pyspark\n",
            "  Building wheel for pyspark (setup.py) ... \u001b[?25l\u001b[?25hdone\n",
            "  Created wheel for pyspark: filename=pyspark-3.2.1-py2.py3-none-any.whl size=281853642 sha256=33681b89a068a7807fd15985aa3faae73c1fb540f03d84f41298c0bcafb9e0bc\n",
            "  Stored in directory: /root/.cache/pip/wheels/9f/f5/07/7cd8017084dce4e93e84e92efd1e1d5334db05f2e83bcef74f\n",
            "Successfully built pyspark\n",
            "Installing collected packages: py4j, pyspark\n",
            "Successfully installed py4j-0.10.9.3 pyspark-3.2.1\n"
          ]
        }
      ],
      "source": [
        "!pip install pyspark"
      ]
    },
    {
      "cell_type": "code",
      "source": [
        "from pyspark.sql import SparkSession\n",
        "spark = SparkSession.builder\\\n",
        "        .master(\"local\")\\\n",
        "        .appName(\"Colab\")\\\n",
        "        .config('spark.ui.port', '4050')\\\n",
        "        .getOrCreate()"
      ],
      "metadata": {
        "id": "Te9uA4ytW-g_"
      },
      "execution_count": 2,
      "outputs": []
    },
    {
      "cell_type": "code",
      "source": [
        "from pyspark.sql.functions import *\n",
        "from pyspark.sql.types import *"
      ],
      "metadata": {
        "id": "PtwQWra6aL1U"
      },
      "execution_count": 3,
      "outputs": []
    },
    {
      "cell_type": "markdown",
      "source": [
        "# **Data Preparation**"
      ],
      "metadata": {
        "id": "Nr02X9eWfqCe"
      }
    },
    {
      "cell_type": "code",
      "source": [
        "schema = StructType([\n",
        "                     StructField(\"mon\", IntegerType()),\n",
        "                     StructField(\"dom\", IntegerType()),\n",
        "                     StructField(\"dow\", IntegerType()),\n",
        "                     StructField(\"carrier\", StringType()),\n",
        "                     StructField(\"flight\", StringType()),\n",
        "                     StructField(\"org\", StringType()),\n",
        "                     StructField(\"mile\", DoubleType()),\n",
        "                     StructField(\"depart\", DoubleType()),\n",
        "                     StructField(\"duration\", DoubleType()),\n",
        "                     StructField(\"delay\", DoubleType()),\n",
        "])\n",
        "\n",
        "flights = spark.read.csv(\"/content/drive/MyDrive/Data Science & Afins/DATACAMP/03. Big Data with PySpark/05. Machine Learning with PySpark/00. DataSets/flights.csv\", header=True, schema=schema)\n",
        "flights.show(5)"
      ],
      "metadata": {
        "colab": {
          "base_uri": "https://localhost:8080/"
        },
        "id": "MuNsS_M7abn2",
        "outputId": "2f55cfd0-8da6-418a-f940-79e1957c672a"
      },
      "execution_count": 4,
      "outputs": [
        {
          "output_type": "stream",
          "name": "stdout",
          "text": [
            "+---+---+---+-------+------+---+------+------+--------+-----+\n",
            "|mon|dom|dow|carrier|flight|org|  mile|depart|duration|delay|\n",
            "+---+---+---+-------+------+---+------+------+--------+-----+\n",
            "| 11| 20|  6|     US|    19|JFK|2153.0|  9.48|   351.0| null|\n",
            "|  0| 22|  2|     UA|  1107|ORD| 316.0| 16.33|    82.0| 30.0|\n",
            "|  2| 20|  4|     UA|   226|SFO| 337.0|  6.17|    82.0| -8.0|\n",
            "|  9| 13|  1|     AA|   419|ORD|1236.0| 10.33|   195.0| -5.0|\n",
            "|  4|  2|  5|     AA|   325|ORD| 258.0|  8.92|    65.0| null|\n",
            "+---+---+---+-------+------+---+------+------+--------+-----+\n",
            "only showing top 5 rows\n",
            "\n"
          ]
        }
      ]
    },
    {
      "cell_type": "markdown",
      "source": [
        "## **Dropping columns**"
      ],
      "metadata": {
        "id": "w5ac_CLGfMVM"
      }
    },
    {
      "cell_type": "code",
      "source": [
        "#Either drop the columns you don't want...\n",
        "flights = flights.drop(\"flight\")\n",
        "flights.show(5)\n",
        "# ... or select  the columns you want to retain \n",
        "\"\"\"flights_2 = flights.select('mon',\n",
        " 'dom',\n",
        " 'dow',\n",
        " 'carrier',\n",
        " 'org',\n",
        " 'mile',\n",
        " 'depart',\n",
        " 'duration',\n",
        " 'delay')\n",
        "flights_2.show(5)\"\"\""
      ],
      "metadata": {
        "colab": {
          "base_uri": "https://localhost:8080/",
          "height": 226
        },
        "id": "Rx3lNcvOe2Iv",
        "outputId": "2616b1d8-5532-450c-c56c-bebc2cba3f95"
      },
      "execution_count": 5,
      "outputs": [
        {
          "output_type": "stream",
          "name": "stdout",
          "text": [
            "+---+---+---+-------+---+------+------+--------+-----+\n",
            "|mon|dom|dow|carrier|org|  mile|depart|duration|delay|\n",
            "+---+---+---+-------+---+------+------+--------+-----+\n",
            "| 11| 20|  6|     US|JFK|2153.0|  9.48|   351.0| null|\n",
            "|  0| 22|  2|     UA|ORD| 316.0| 16.33|    82.0| 30.0|\n",
            "|  2| 20|  4|     UA|SFO| 337.0|  6.17|    82.0| -8.0|\n",
            "|  9| 13|  1|     AA|ORD|1236.0| 10.33|   195.0| -5.0|\n",
            "|  4|  2|  5|     AA|ORD| 258.0|  8.92|    65.0| null|\n",
            "+---+---+---+-------+---+------+------+--------+-----+\n",
            "only showing top 5 rows\n",
            "\n"
          ]
        },
        {
          "output_type": "execute_result",
          "data": {
            "text/plain": [
              "\"flights_2 = flights.select('mon',\\n 'dom',\\n 'dow',\\n 'carrier',\\n 'org',\\n 'mile',\\n 'depart',\\n 'duration',\\n 'delay')\\nflights_2.show(5)\""
            ],
            "application/vnd.google.colaboratory.intrinsic+json": {
              "type": "string"
            }
          },
          "metadata": {},
          "execution_count": 5
        }
      ]
    },
    {
      "cell_type": "markdown",
      "source": [
        "## Filtering out missing data"
      ],
      "metadata": {
        "id": "pFMg_j6PgfXF"
      }
    },
    {
      "cell_type": "code",
      "source": [
        "#How many missing values?\n",
        "\n",
        "flights.filter(\"delay IS NULL\").count()"
      ],
      "metadata": {
        "colab": {
          "base_uri": "https://localhost:8080/"
        },
        "id": "jhq6RGaPgcg-",
        "outputId": "100bea7c-97b9-418c-d1cd-601878854a85"
      },
      "execution_count": 6,
      "outputs": [
        {
          "output_type": "execute_result",
          "data": {
            "text/plain": [
              "2978"
            ]
          },
          "metadata": {},
          "execution_count": 6
        }
      ]
    },
    {
      "cell_type": "code",
      "source": [
        "#Drop records with missing values in the delay column\n",
        "flights = flights.filter(\"delay IS NOT NULL\")\n",
        "\n",
        "#Drop records with missing values in any column\n",
        "\n",
        "flights = flights.dropna()"
      ],
      "metadata": {
        "id": "JHvpA6Lfgr3B"
      },
      "execution_count": 7,
      "outputs": []
    },
    {
      "cell_type": "markdown",
      "source": [
        "## **Mutating columns** "
      ],
      "metadata": {
        "id": "pZQdmQwghOj7"
      }
    },
    {
      "cell_type": "markdown",
      "source": [
        "- Derive a new km column from the mile column, rounding to zero decimal places. One mile is 1.60934 km.\n",
        "Remove the mile column.\n",
        "- Create a label column with a value of 1 indicating the delay was 15 minutes or more and 0 otherwise."
      ],
      "metadata": {
        "id": "TZwzMEL89gyp"
      }
    },
    {
      "cell_type": "code",
      "source": [
        "# Import the required function\n",
        "from pyspark.sql.functions import round\n",
        "\n",
        "# Convert 'mile' to 'km' and drop 'mile' column\n",
        "flights = flights.withColumn('km', round(flights.mile * 1.60934, 0)) \\\n",
        "                    .drop('mile')\n",
        "\n",
        "# Create 'label' column indicating whether flight delayed (1) or not (0)\n",
        "flights = flights.withColumn('label', (flights.delay >= 15).cast('integer'))\n",
        "\n",
        "# Check first five records\n",
        "flights.show(5)"
      ],
      "metadata": {
        "colab": {
          "base_uri": "https://localhost:8080/"
        },
        "id": "FVKBoIU-hHQx",
        "outputId": "9167040b-82f9-464d-ebd7-9fa2a5dfb6b7"
      },
      "execution_count": 8,
      "outputs": [
        {
          "output_type": "stream",
          "name": "stdout",
          "text": [
            "+---+---+---+-------+---+------+--------+-----+------+-----+\n",
            "|mon|dom|dow|carrier|org|depart|duration|delay|    km|label|\n",
            "+---+---+---+-------+---+------+--------+-----+------+-----+\n",
            "|  0| 22|  2|     UA|ORD| 16.33|    82.0| 30.0| 509.0|    1|\n",
            "|  2| 20|  4|     UA|SFO|  6.17|    82.0| -8.0| 542.0|    0|\n",
            "|  9| 13|  1|     AA|ORD| 10.33|   195.0| -5.0|1989.0|    0|\n",
            "|  5|  2|  1|     UA|SFO|  7.98|   102.0|  2.0| 885.0|    0|\n",
            "|  7|  2|  6|     AA|ORD| 10.83|   135.0| 54.0|1180.0|    1|\n",
            "+---+---+---+-------+---+------+--------+-----+------+-----+\n",
            "only showing top 5 rows\n",
            "\n"
          ]
        }
      ]
    },
    {
      "cell_type": "markdown",
      "source": [
        "## Categorical columns\n",
        "\n",
        "In the flights data there are two columns, carrier and org, which hold categorical data. You need to transform those columns into indexed numerical values."
      ],
      "metadata": {
        "id": "go0AqBSgj0tt"
      }
    },
    {
      "cell_type": "code",
      "source": [
        "from pyspark.ml.feature import StringIndexer\n",
        "\n",
        "# Create an indexer\n",
        "indexer = StringIndexer(inputCol=\"carrier\", outputCol='carrier_idx')\n",
        "\n",
        "# Indexer identifies categories in the data\n",
        "indexer_model = indexer.fit(flights)\n",
        "\n",
        "# Indexer creates a new column with numeric index values\n",
        "flights = indexer_model.transform(flights)\n",
        "\n",
        "# Repeat the process for the other categorical feature\n",
        "flights = StringIndexer(inputCol=\"org\", outputCol='org_idx').fit(flights).transform(flights)"
      ],
      "metadata": {
        "id": "9WDcmu9ckzYP"
      },
      "execution_count": 9,
      "outputs": []
    },
    {
      "cell_type": "markdown",
      "source": [
        "## Assembling columns\n",
        "The final stage of data preparation is to consolidate all of the predictor columns into a single column.\n",
        "\n",
        "An updated version of the flights data, which takes into account all of the changes from the previous few exercises, has the following predictor columns:\n",
        "\n",
        "- mon, dom and dow\n",
        "- carrier_idx (indexed value from carrier)\n",
        "- org_idx (indexed value from org)\n",
        "- km\n",
        "- depart\n",
        "- duration"
      ],
      "metadata": {
        "id": "SFNNejxxIesg"
      }
    },
    {
      "cell_type": "code",
      "source": [
        "# Import the necessary class\n",
        "from pyspark.ml.feature import VectorAssembler\n",
        "\n",
        "# Create an assembler object\n",
        "assembler = VectorAssembler(inputCols=[\n",
        "    \"mon\",\"dom\",\"dow\",\"carrier_idx\", \"org_idx\",\"km\",\"depart\", \"duration\"\n",
        "], outputCol='features')\n",
        "\n",
        "# Consolidate predictor columns\n",
        "flights = assembler.transform(flights)\n",
        "\n",
        "# Check the resulting column\n",
        "flights.select('features', 'delay').show(5, truncate=False)"
      ],
      "metadata": {
        "colab": {
          "base_uri": "https://localhost:8080/"
        },
        "id": "roLQJuW_HnpE",
        "outputId": "bca9ef78-e010-45c9-ace6-9ae704e04847"
      },
      "execution_count": 10,
      "outputs": [
        {
          "output_type": "stream",
          "name": "stdout",
          "text": [
            "+-----------------------------------------+-----+\n",
            "|features                                 |delay|\n",
            "+-----------------------------------------+-----+\n",
            "|[0.0,22.0,2.0,0.0,0.0,509.0,16.33,82.0]  |30.0 |\n",
            "|[2.0,20.0,4.0,0.0,1.0,542.0,6.17,82.0]   |-8.0 |\n",
            "|[9.0,13.0,1.0,1.0,0.0,1989.0,10.33,195.0]|-5.0 |\n",
            "|[5.0,2.0,1.0,0.0,1.0,885.0,7.98,102.0]   |2.0  |\n",
            "|[7.0,2.0,6.0,1.0,0.0,1180.0,10.83,135.0] |54.0 |\n",
            "+-----------------------------------------+-----+\n",
            "only showing top 5 rows\n",
            "\n"
          ]
        }
      ]
    },
    {
      "cell_type": "markdown",
      "source": [
        "## Train/test split\n",
        "To objectively assess a Machine Learning model you need to be able to test it on an independent set of data. You can't use the same data that you used to train the model: of course the model will perform (relatively) well on those data!\n",
        "\n",
        "You will split the data into two components:\n",
        "\n",
        "- training data (used to train the model) and\n",
        "- testing data (used to test the model).\n",
        "\n",
        "\n",
        "Randomly split the flights data into two sets with 80:20 proportions. For repeatability set a random number seed of 17 for the split.\n",
        "Check that the training data has roughly 80% of the records from the original data."
      ],
      "metadata": {
        "id": "l2Wc4vMicQs2"
      }
    },
    {
      "cell_type": "code",
      "source": [
        "# Split into training and testing sets in a 80:20 ratio\n",
        "flights_train, flights_test = flights.randomSplit([.8,.2], seed=17)\n",
        "\n",
        "# Check that training set has around 80% of records\n",
        "training_ratio = flights_train.count() /flights_test.count()\n",
        "print(training_ratio)"
      ],
      "metadata": {
        "colab": {
          "base_uri": "https://localhost:8080/"
        },
        "id": "rkIdag3BKWvR",
        "outputId": "eb84b412-4281-4a02-cd5a-51b9c47b1caf"
      },
      "execution_count": 11,
      "outputs": [
        {
          "output_type": "stream",
          "name": "stdout",
          "text": [
            "3.9253168534618204\n"
          ]
        }
      ]
    },
    {
      "cell_type": "markdown",
      "source": [
        "## Build a Decision Tree\n",
        "Now that you've split the flights data into training and testing sets, you can use the training set to fit a Decision Tree model.\n",
        "\n",
        "The data are available as flights_train and flights_test.\n",
        "\n",
        "NOTE: It will take a few seconds for the model to train… please be patient!\n",
        "\n",
        "- Import the class for creating a Decision Tree classifier.\n",
        "- Create a classifier object and fit it to the training data.\n",
        "- Make predictions for the testing data and take a look at the predictions."
      ],
      "metadata": {
        "id": "1QpPfgSzdXRK"
      }
    },
    {
      "cell_type": "code",
      "source": [
        "# Import the Decision Tree Classifier class\n",
        "from pyspark.ml.classification import DecisionTreeClassifier\n",
        "# Create a classifier object and fit to the training data\n",
        "tree = DecisionTreeClassifier()\n",
        "tree_model = tree.fit(flights_train)\n",
        "\n",
        "# Create predictions for the testing data and take a look at the predictions\n",
        "prediction = tree_model.transform(flights_test)\n",
        "prediction.select('label', 'prediction', 'probability').show(5, False)"
      ],
      "metadata": {
        "colab": {
          "base_uri": "https://localhost:8080/"
        },
        "id": "9SWLah8LcE6y",
        "outputId": "809dce04-9185-4d51-fd7f-f3d63df56ed5"
      },
      "execution_count": 12,
      "outputs": [
        {
          "output_type": "stream",
          "name": "stdout",
          "text": [
            "+-----+----------+----------------------------------------+\n",
            "|label|prediction|probability                             |\n",
            "+-----+----------+----------------------------------------+\n",
            "|1    |0.0       |[0.5327142254115661,0.46728577458843396]|\n",
            "|0    |1.0       |[0.3537163618449412,0.6462836381550588] |\n",
            "|0    |1.0       |[0.4965986394557823,0.5034013605442177] |\n",
            "|1    |1.0       |[0.3537163618449412,0.6462836381550588] |\n",
            "|1    |1.0       |[0.3537163618449412,0.6462836381550588] |\n",
            "+-----+----------+----------------------------------------+\n",
            "only showing top 5 rows\n",
            "\n"
          ]
        }
      ]
    },
    {
      "cell_type": "markdown",
      "source": [
        "## Evaluate the Decision Tree\n",
        "You can assess the quality of your model by evaluating how well it performs on the testing data. Because the model was not trained on these data, this represents an objective assessment of the model.\n",
        "\n",
        "A confusion matrix gives a useful breakdown of predictions versus known values. It has four cells which represent the counts of:\n",
        "\n",
        "- True Negatives (TN) — model predicts negative outcome & known outcome is negative\n",
        "- True Positives (TP) — model predicts positive outcome & known outcome is positive\n",
        "- False Negatives (FN) — model predicts negative outcome but known outcome is positive\n",
        "- False Positives (FP) — model predicts positive outcome but known outcome is negative.\n",
        "\n",
        "\n",
        "\n",
        "*   Create a confusion matrix by counting the combinations of label and prediction. Display the result.\n",
        "*   Count the number of True Negatives, True Positives, False Negatives and False Positives.\n",
        "*   Calculate the accuracy.\n",
        "\n",
        "\n",
        "\n"
      ],
      "metadata": {
        "id": "EaOdXRX-e92Q"
      }
    },
    {
      "cell_type": "code",
      "source": [
        "# Create a confusion matrix\n",
        "prediction.groupBy('label', 'prediction').count().show()\n",
        "\n",
        "# Calculate the elements of the confusion matrix\n",
        "TN = prediction.filter('prediction = 0 AND label = prediction').count()\n",
        "TP = prediction.filter('prediction = 1 AND label = prediction').count()\n",
        "FN = prediction.filter('prediction = 0 AND label != prediction').count()\n",
        "FP = prediction.filter('prediction = 1 AND label != prediction').count()\n",
        "\n",
        "# Accuracy measures the proportion of correct predictions\n",
        "accuracy =  (TN + TP) / (TN + TP + FN + FP)\n",
        "print(accuracy)"
      ],
      "metadata": {
        "colab": {
          "base_uri": "https://localhost:8080/"
        },
        "id": "NN2uNO3SeTnF",
        "outputId": "0f147b68-a38e-4737-997a-cebc387c13bd"
      },
      "execution_count": 13,
      "outputs": [
        {
          "output_type": "stream",
          "name": "stdout",
          "text": [
            "+-----+----------+-----+\n",
            "|label|prediction|count|\n",
            "+-----+----------+-----+\n",
            "|    1|       0.0| 1687|\n",
            "|    0|       0.0| 2767|\n",
            "|    1|       1.0| 3223|\n",
            "|    0|       1.0| 1870|\n",
            "+-----+----------+-----+\n",
            "\n",
            "0.6274222268775531\n"
          ]
        }
      ]
    },
    {
      "cell_type": "markdown",
      "source": [
        "## Build a Logistic Regression model\n",
        "You've already built a Decision Tree model using the flights data. Now you're going to create a Logistic Regression model on the same data.\n",
        "\n",
        "The objective is to predict whether a flight is likely to be delayed by at least 15 minutes (label 1) or not (label 0).\n",
        "\n",
        "Although you have a variety of predictors at your disposal, you'll only use the mon, depart and duration columns for the moment. These are numerical features which can immediately be used for a Logistic Regression model. You'll need to do a little more work before you can include categorical features. Stay tuned!\n",
        "\n",
        "The data have been split into training and testing sets and are available as flights_train and flights_test.\n",
        "\n",
        "\n",
        "- Import the class for creating a Logistic Regression classifier.\n",
        "- Create a classifier object and train it on the training data.\n",
        "- Make predictions for the testing data and create a confusion matrix."
      ],
      "metadata": {
        "id": "ZGXCbDqtlK2a"
      }
    },
    {
      "cell_type": "code",
      "source": [
        "# Import the logistic regression class\n",
        "from pyspark.ml.classification import LogisticRegression\n",
        "\n",
        "# Create a classifier object and train on training data\n",
        "logistic = LogisticRegression().fit(flights_train)\n",
        "\n",
        "# Create predictions for the testing data and show confusion matrix\n",
        "prediction = logistic.transform(flights_test)\n",
        "prediction.groupBy('label', 'prediction').count().show()"
      ],
      "metadata": {
        "colab": {
          "base_uri": "https://localhost:8080/"
        },
        "id": "FIyX5l73hgvr",
        "outputId": "aa110e46-d299-43b0-f598-faf83294815b"
      },
      "execution_count": 14,
      "outputs": [
        {
          "output_type": "stream",
          "name": "stdout",
          "text": [
            "+-----+----------+-----+\n",
            "|label|prediction|count|\n",
            "+-----+----------+-----+\n",
            "|    1|       0.0| 1671|\n",
            "|    0|       0.0| 2522|\n",
            "|    1|       1.0| 3239|\n",
            "|    0|       1.0| 2115|\n",
            "+-----+----------+-----+\n",
            "\n"
          ]
        }
      ]
    },
    {
      "cell_type": "markdown",
      "source": [
        "## Evaluate the Logistic Regression model\n",
        "Accuracy is generally not a very reliable metric because it can be biased by the most common target class.\n",
        "\n",
        "There are two other useful metrics:\n",
        "\n",
        "- precision and\n",
        "- recall.\n",
        "Check the slides for this lesson to get the relevant expressions.\n",
        "\n",
        "Precision is the proportion of positive predictions which are correct. For all flights which are predicted to be delayed, what proportion is actually delayed?\n",
        "\n",
        "Recall is the proportion of positives outcomes which are correctly predicted. For all delayed flights, what proportion is correctly predicted by the model?\n",
        "\n",
        "The precision and recall are generally formulated in terms of the positive target class. But it's also possible to calculate weighted versions of these metrics which look at both target classes.\n",
        "\n",
        "The components of the confusion matrix are available as TN, TP, FN and FP, as well as the object prediction.\n",
        "\n",
        "- Find the precision and recall.\n",
        "- Create a multi-class evaluator and evaluate weighted precision.\n",
        "- Create a binary evaluator and evaluate AUC using the \"areaUnderROC\" metric."
      ],
      "metadata": {
        "id": "aqveRiKut55j"
      }
    },
    {
      "cell_type": "code",
      "source": [
        "from pyspark.ml.evaluation import MulticlassClassificationEvaluator, BinaryClassificationEvaluator\n",
        "\n",
        "# Calculate precision and recall\n",
        "precision = TP / (TP + FP)\n",
        "recall = TP / (TP + FN)\n",
        "print('precision = {:.2f}\\nrecall    = {:.2f}'.format(precision, recall))\n",
        "\n",
        "# Find weighted precision\n",
        "multi_evaluator = MulticlassClassificationEvaluator()\n",
        "weighted_precision = multi_evaluator.evaluate(prediction, {multi_evaluator.metricName: \"weightedPrecision\"})\n",
        "\n",
        "# Find AUC\n",
        "binary_evaluator = BinaryClassificationEvaluator()\n",
        "auc = binary_evaluator.evaluate(prediction, {binary_evaluator.metricName: \"areaUnderROC\"})"
      ],
      "metadata": {
        "colab": {
          "base_uri": "https://localhost:8080/"
        },
        "id": "eBftyVm-xCZ9",
        "outputId": "14206b3a-444b-4650-8b8f-3ff3865a05bc"
      },
      "execution_count": 15,
      "outputs": [
        {
          "output_type": "stream",
          "name": "stdout",
          "text": [
            "precision = 0.63\n",
            "recall    = 0.66\n"
          ]
        }
      ]
    },
    {
      "cell_type": "markdown",
      "source": [
        "## Punctuation, numbers and tokens\n",
        "At the end of the previous chapter you loaded a dataset of SMS messages which had been labeled as either \"spam\" (label 1) or \"ham\" (label 0). You're now going to use those data to build a classifier model.\n",
        "\n",
        "But first you'll need to prepare the SMS messages as follows:\n",
        "\n",
        "remove punctuation and numbers\n",
        "tokenize (split into individual words)\n",
        "remove stop words\n",
        "apply the hashing trick\n",
        "convert to TF-IDF representation.\n",
        "In this exercise you'll remove punctuation and numbers, then tokenize the messages.\n",
        "\n",
        "\n",
        "- Import the function to replace regular expressions and the feature to tokenize.\n",
        "- Replace all punctuation characters from the text column with a space. Do the same for all numbers in the text column.\n",
        "- Split the text column into tokens. Name the output column words."
      ],
      "metadata": {
        "id": "551cLBT51Hr3"
      }
    },
    {
      "cell_type": "code",
      "source": [
        "sms = spark.read.csv(\"/content/drive/MyDrive/Data Science & Afins/DATACAMP/03. Big Data with PySpark/05. Machine Learning with PySpark/00. DataSets/sms.csv\", header=False, sep=';')\n",
        "sms = sms.withColumnRenamed(\"_c0\",\"id\")\n",
        "sms = sms.withColumnRenamed(\"_c1\",\"text\")\n",
        "sms = sms.withColumnRenamed(\"_c2\",\"label\")\n",
        "sms.show(5)"
      ],
      "metadata": {
        "colab": {
          "base_uri": "https://localhost:8080/"
        },
        "id": "g6uKPXh8xp07",
        "outputId": "839c3aab-e91d-4c4d-8322-6075d7abc59e"
      },
      "execution_count": 16,
      "outputs": [
        {
          "output_type": "stream",
          "name": "stdout",
          "text": [
            "+---+--------------------+-----+\n",
            "| id|                text|label|\n",
            "+---+--------------------+-----+\n",
            "|  1|Sorry, I'll call ...|    0|\n",
            "|  2|Dont worry. I gue...|    0|\n",
            "|  3|Call FREEPHONE 08...|    1|\n",
            "|  4|Win a 1000 cash p...|    1|\n",
            "|  5|Go until jurong p...|    0|\n",
            "+---+--------------------+-----+\n",
            "only showing top 5 rows\n",
            "\n"
          ]
        }
      ]
    },
    {
      "cell_type": "code",
      "source": [
        "# Import the necessary functions\n",
        "from pyspark.sql.functions import regexp_replace\n",
        "from pyspark.ml.feature import Tokenizer\n",
        "\n",
        "# Remove punctuation (REGEX provided) and numbers\n",
        "wrangled = sms.withColumn('text', regexp_replace(sms.text, '[_():;,.!?\\\\-]', ' '))\n",
        "wrangled = wrangled.withColumn('text', regexp_replace(wrangled.text, '[0-9]', ' '))\n",
        "\n",
        "# Merge multiple spaces\n",
        "wrangled = wrangled.withColumn('text', regexp_replace(wrangled.text, ' +', ' '))\n",
        "\n",
        "# Split the text into words\n",
        "wrangled = Tokenizer(inputCol='text', outputCol='words').transform(wrangled)\n",
        "\n",
        "wrangled.show(4, truncate=False)"
      ],
      "metadata": {
        "colab": {
          "base_uri": "https://localhost:8080/"
        },
        "id": "Di079XI51p0e",
        "outputId": "713a32ff-baa2-4563-c144-0fce421556d4"
      },
      "execution_count": 17,
      "outputs": [
        {
          "output_type": "stream",
          "name": "stdout",
          "text": [
            "+---+----------------------------------+-----+------------------------------------------+\n",
            "|id |text                              |label|words                                     |\n",
            "+---+----------------------------------+-----+------------------------------------------+\n",
            "|1  |Sorry I'll call later in meeting  |0    |[sorry, i'll, call, later, in, meeting]   |\n",
            "|2  |Dont worry I guess he's busy      |0    |[dont, worry, i, guess, he's, busy]       |\n",
            "|3  |Call FREEPHONE now                |1    |[call, freephone, now]                    |\n",
            "|4  |Win a cash prize or a prize worth |1    |[win, a, cash, prize, or, a, prize, worth]|\n",
            "+---+----------------------------------+-----+------------------------------------------+\n",
            "only showing top 4 rows\n",
            "\n"
          ]
        }
      ]
    },
    {
      "cell_type": "markdown",
      "source": [
        "### Stop words and hashing\n",
        "The next steps will be to remove stop words and then apply the hashing trick, converting the results into a TF-IDF.\n",
        "\n",
        "A quick reminder about these concepts:\n",
        "\n",
        "- The hashing trick provides a fast and space-efficient way to map a very large (possibly infinite) set of items (in this case, all words contained in the SMS messages) onto a smaller, finite number of values.\n",
        "- The TF-IDF matrix reflects how important a word is to each document. It takes into account both the frequency of the word within each document but also the frequency of the word across all of the documents in the collection."
      ],
      "metadata": {
        "id": "zoDx4Ppo5QAB"
      }
    },
    {
      "cell_type": "code",
      "source": [
        "from pyspark.ml.feature import StopWordsRemover, HashingTF, IDF\n",
        "\n",
        "wrangled = wrangled.select('id', 'words', 'label')\n",
        "\n",
        "# Remove stop words.\n",
        "wrangled = StopWordsRemover(inputCol='words', outputCol='terms').transform(wrangled)\n",
        "\n",
        "# Apply the hashing trick\n",
        "wrangled = HashingTF(inputCol='terms', outputCol='hash', numFeatures=1024).transform(wrangled)\n",
        "\n",
        "# Convert hashed symbols to TF-IDF\n",
        "tf_idf = IDF(inputCol='hash', outputCol='features').fit(wrangled).transform(wrangled)\n",
        "\n",
        "tf_idf.select('terms', 'features').show(4, truncate=False)"
      ],
      "metadata": {
        "colab": {
          "base_uri": "https://localhost:8080/"
        },
        "id": "q-izJ3Hc5Ko0",
        "outputId": "c4ae2f9f-9c6a-4a3e-e402-5d82f7815af6"
      },
      "execution_count": 18,
      "outputs": [
        {
          "output_type": "stream",
          "name": "stdout",
          "text": [
            "+--------------------------------+----------------------------------------------------------------------------------------------------+\n",
            "|terms                           |features                                                                                            |\n",
            "+--------------------------------+----------------------------------------------------------------------------------------------------+\n",
            "|[sorry, call, later, meeting]   |(1024,[138,384,577,996],[2.273418200008753,3.6288353225642043,3.5890949939146903,4.104259019279279])|\n",
            "|[dont, worry, guess, busy]      |(1024,[215,233,276,329],[3.9913186080986836,3.3790235241678332,4.734227298217693,4.58299632849377]) |\n",
            "|[call, freephone]               |(1024,[133,138],[5.367951058306837,2.273418200008753])                                              |\n",
            "|[win, cash, prize, prize, worth]|(1024,[31,47,62,389],[3.6632029660684124,4.754846585420428,4.072170704727778,7.064594791043114])    |\n",
            "+--------------------------------+----------------------------------------------------------------------------------------------------+\n",
            "only showing top 4 rows\n",
            "\n"
          ]
        }
      ]
    },
    {
      "cell_type": "markdown",
      "source": [
        "### Training a spam classifier\n",
        "The SMS data have now been prepared for building a classifier. Specifically, this is what you have done:\n",
        "\n",
        "- removed numbers and punctuation\n",
        "- split the messages into words (or \"tokens\")\n",
        "- removed stop words\n",
        "- applied the hashing trick and\n",
        "- converted to a TF-IDF representation.\n",
        "\n",
        "Next you'll need to split the TF-IDF data into training and testing sets. Then you'll use the training data to fit a Logistic Regression model and finally evaluate the performance of that model on the testing data."
      ],
      "metadata": {
        "id": "KHK3oFjQ52sd"
      }
    },
    {
      "cell_type": "code",
      "source": [
        "tf_idf = tf_idf.withColumn(\"label\", tf_idf.label.cast(\"int\"))"
      ],
      "metadata": {
        "id": "9AuOAaBh8NHq"
      },
      "execution_count": 19,
      "outputs": []
    },
    {
      "cell_type": "code",
      "source": [
        "sms = tf_idf.select('label', 'features')\n",
        "\n",
        "# Split the data into training and test sets\n",
        "sms_train, sms_test = sms.randomSplit([0.8, 0.2], seed=13)\n",
        "\n",
        "# Fit a Logistic Regression model to the training data\n",
        "logistic = LogisticRegression(regParam=0.2).fit(sms_train)\n",
        "\n",
        "# Make predictions on the test data\n",
        "prediction = logistic.transform(sms_test)\n",
        "\n",
        "# Create a confusion matrix, comparing predictions to known labels\n",
        "prediction.groupBy('label', 'prediction').count().show()"
      ],
      "metadata": {
        "colab": {
          "base_uri": "https://localhost:8080/"
        },
        "id": "zj3CQDHi5TBf",
        "outputId": "2c6dfe0c-6c7e-4d1f-8d3c-3ff533b5dfe7"
      },
      "execution_count": 20,
      "outputs": [
        {
          "output_type": "stream",
          "name": "stdout",
          "text": [
            "+-----+----------+-----+\n",
            "|label|prediction|count|\n",
            "+-----+----------+-----+\n",
            "|    1|       0.0|   39|\n",
            "|    0|       0.0|  932|\n",
            "|    1|       1.0|  121|\n",
            "|    0|       1.0|    4|\n",
            "+-----+----------+-----+\n",
            "\n"
          ]
        }
      ]
    },
    {
      "cell_type": "code",
      "source": [
        ""
      ],
      "metadata": {
        "id": "yp4HTOWY56p5"
      },
      "execution_count": null,
      "outputs": []
    }
  ]
}